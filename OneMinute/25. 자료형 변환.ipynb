{
 "cells": [
  {
   "cell_type": "code",
   "execution_count": 4,
   "metadata": {},
   "outputs": [
    {
     "data": {
      "text/plain": [
       "('오예스', '몽쉘', '쵸코파이')"
      ]
     },
     "execution_count": 4,
     "metadata": {},
     "output_type": "execute_result"
    }
   ],
   "source": [
    "# 튜플에 자료 추가하는 방법\n",
    "my_tuple = ('오예스', '몽쉘')\n",
    "my_list = list(my_tuple)\n",
    "my_list.append('쵸코파이')\n",
    "my_tuple = tuple(my_list)\n",
    "my_tuple"
   ]
  },
  {
   "cell_type": "code",
   "execution_count": 35,
   "metadata": {},
   "outputs": [
    {
     "name": "stdout",
     "output_type": "stream",
     "text": [
      "['고무마', 1, 3, 2, '감자', '김치']\n"
     ]
    }
   ],
   "source": [
    "# list를 set로 자료 변환시 중복되지 않는 자료, 순서 보장 않됨 \n",
    "my_list = ['고무마', '감자', '김치', 3, 1, 3, 2, 3]\n",
    "my_set = set(my_list)\n",
    "my_list = list(my_set)\n",
    "print(my_list)"
   ]
  },
  {
   "cell_type": "code",
   "execution_count": 6,
   "metadata": {},
   "outputs": [
    {
     "data": {
      "text/plain": [
       "['고무마', '감자', '김치', 3, 1, 2]"
      ]
     },
     "execution_count": 6,
     "metadata": {},
     "output_type": "execute_result"
    }
   ],
   "source": [
    "# 리스트의 순서는 보장하면서 중복값을 제거하는 코드 \n",
    "my_list = ['고무마', '감자', '김치', 3, 1, 3, 2, 3]\n",
    "my_dic = dict.fromkeys(my_list)\n",
    "my_list = list(my_dic)\n",
    "my_list"
   ]
  }
 ],
 "metadata": {
  "kernelspec": {
   "display_name": "Python 3.9.13 64-bit",
   "language": "python",
   "name": "python3"
  },
  "language_info": {
   "codemirror_mode": {
    "name": "ipython",
    "version": 3
   },
   "file_extension": ".py",
   "mimetype": "text/x-python",
   "name": "python",
   "nbconvert_exporter": "python",
   "pygments_lexer": "ipython3",
   "version": "3.9.13"
  },
  "orig_nbformat": 4,
  "vscode": {
   "interpreter": {
    "hash": "81794d4967e6c3204c66dcd87b604927b115b27c00565d3d43f05ba2f3a2cb0d"
   }
  }
 },
 "nbformat": 4,
 "nbformat_minor": 2
}
