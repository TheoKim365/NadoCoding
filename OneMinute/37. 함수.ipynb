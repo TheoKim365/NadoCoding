{
 "cells": [
  {
   "cell_type": "markdown",
   "metadata": {},
   "source": [
    "## 37. 함수"
   ]
  },
  {
   "cell_type": "markdown",
   "metadata": {},
   "source": [
    "### def 함수명(전달값):   # 파라메터\n",
    "        수행할 문장\n",
    "        return 반환값\n",
    "\n",
    "### 전달값\n",
    "1. 여러 개 사용가능 (콤마로 구분)\n",
    "2. 함수 안에서만 사용 \n",
    "### 반환값\n",
    "1. 여러 개 반환가능 (콤마로 구분, 튜풀)\n",
    "2. 반환되는 즉시 함수 탈출\n",
    "### 기본값\n",
    "전달값에 기본으로 사용되는 값 \n",
    "   전달값 = 기본값  예) is_vip = True \n",
    "### 키워드값\n",
    "1. 기본값으로 설정 \n",
    "2. 특정값으로 기본값(전달값)을 변경\n",
    "### 가변인자 \n",
    "1. 개수가 바뀔 수 있는 인자 \n",
    "2. 전달값 앞에 * (튜풀)\n",
    "3. 마지막 하나의 전달값에만 사용가능 예) a, *b "
   ]
  }
 ],
 "metadata": {
  "language_info": {
   "name": "python"
  },
  "orig_nbformat": 4
 },
 "nbformat": 4,
 "nbformat_minor": 2
}
