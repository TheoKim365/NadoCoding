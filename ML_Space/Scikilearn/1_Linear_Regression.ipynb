{
 "cells": [
  {
   "cell_type": "markdown",
   "metadata": {},
   "source": [
    "# Linear Regression\n",
    "### 공부 시간에 따른 시험 점수"
   ]
  },
  {
   "cell_type": "code",
   "execution_count": null,
   "metadata": {},
   "outputs": [],
   "source": [
    "# import sklearn\n",
    "# sklearn.__version__"
   ]
  },
  {
   "cell_type": "code",
   "execution_count": 1,
   "metadata": {},
   "outputs": [],
   "source": [
    "import matplotlib.pyplot as plt\n",
    "import pandas as pd"
   ]
  },
  {
   "cell_type": "code",
   "execution_count": 2,
   "metadata": {},
   "outputs": [],
   "source": [
    "dataset = pd.read_csv('LinearRegressionData.csv')"
   ]
  },
  {
   "cell_type": "code",
   "execution_count": 3,
   "metadata": {},
   "outputs": [
    {
     "data": {
      "text/html": [
       "<div>\n",
       "<style scoped>\n",
       "    .dataframe tbody tr th:only-of-type {\n",
       "        vertical-align: middle;\n",
       "    }\n",
       "\n",
       "    .dataframe tbody tr th {\n",
       "        vertical-align: top;\n",
       "    }\n",
       "\n",
       "    .dataframe thead th {\n",
       "        text-align: right;\n",
       "    }\n",
       "</style>\n",
       "<table border=\"1\" class=\"dataframe\">\n",
       "  <thead>\n",
       "    <tr style=\"text-align: right;\">\n",
       "      <th></th>\n",
       "      <th>hour</th>\n",
       "      <th>score</th>\n",
       "    </tr>\n",
       "  </thead>\n",
       "  <tbody>\n",
       "    <tr>\n",
       "      <th>0</th>\n",
       "      <td>0.5</td>\n",
       "      <td>10</td>\n",
       "    </tr>\n",
       "    <tr>\n",
       "      <th>1</th>\n",
       "      <td>1.2</td>\n",
       "      <td>8</td>\n",
       "    </tr>\n",
       "    <tr>\n",
       "      <th>2</th>\n",
       "      <td>1.8</td>\n",
       "      <td>14</td>\n",
       "    </tr>\n",
       "    <tr>\n",
       "      <th>3</th>\n",
       "      <td>2.4</td>\n",
       "      <td>26</td>\n",
       "    </tr>\n",
       "    <tr>\n",
       "      <th>4</th>\n",
       "      <td>2.6</td>\n",
       "      <td>22</td>\n",
       "    </tr>\n",
       "  </tbody>\n",
       "</table>\n",
       "</div>"
      ],
      "text/plain": [
       "   hour  score\n",
       "0   0.5     10\n",
       "1   1.2      8\n",
       "2   1.8     14\n",
       "3   2.4     26\n",
       "4   2.6     22"
      ]
     },
     "execution_count": 3,
     "metadata": {},
     "output_type": "execute_result"
    }
   ],
   "source": [
    "dataset.head()"
   ]
  },
  {
   "cell_type": "code",
   "execution_count": 4,
   "metadata": {},
   "outputs": [],
   "source": [
    "X = dataset.iloc[:, :-1].values   # row, col, 처음부터 마지막 컬럼 직전까지의 데이터 (독립변수)\n",
    "y = dataset.iloc[:, -1].values    # 마지작 컬럼 데이터 (종속변수 - 결과)"
   ]
  },
  {
   "cell_type": "code",
   "execution_count": 5,
   "metadata": {},
   "outputs": [
    {
     "data": {
      "text/plain": [
       "(array([[ 0.5],\n",
       "        [ 1.2],\n",
       "        [ 1.8],\n",
       "        [ 2.4],\n",
       "        [ 2.6],\n",
       "        [ 3.2],\n",
       "        [ 3.9],\n",
       "        [ 4.4],\n",
       "        [ 4.5],\n",
       "        [ 5. ],\n",
       "        [ 5.3],\n",
       "        [ 5.8],\n",
       "        [ 6. ],\n",
       "        [ 6.1],\n",
       "        [ 6.2],\n",
       "        [ 6.9],\n",
       "        [ 7.2],\n",
       "        [ 8.4],\n",
       "        [ 8.6],\n",
       "        [10. ]]),\n",
       " array([ 10,   8,  14,  26,  22,  30,  42,  48,  38,  58,  60,  72,  62,\n",
       "         68,  72,  58,  76,  86,  90, 100], dtype=int64))"
      ]
     },
     "execution_count": 5,
     "metadata": {},
     "output_type": "execute_result"
    }
   ],
   "source": [
    "X, y"
   ]
  },
  {
   "cell_type": "code",
   "execution_count": 6,
   "metadata": {},
   "outputs": [
    {
     "data": {
      "text/html": [
       "<style>#sk-container-id-1 {color: black;background-color: white;}#sk-container-id-1 pre{padding: 0;}#sk-container-id-1 div.sk-toggleable {background-color: white;}#sk-container-id-1 label.sk-toggleable__label {cursor: pointer;display: block;width: 100%;margin-bottom: 0;padding: 0.3em;box-sizing: border-box;text-align: center;}#sk-container-id-1 label.sk-toggleable__label-arrow:before {content: \"▸\";float: left;margin-right: 0.25em;color: #696969;}#sk-container-id-1 label.sk-toggleable__label-arrow:hover:before {color: black;}#sk-container-id-1 div.sk-estimator:hover label.sk-toggleable__label-arrow:before {color: black;}#sk-container-id-1 div.sk-toggleable__content {max-height: 0;max-width: 0;overflow: hidden;text-align: left;background-color: #f0f8ff;}#sk-container-id-1 div.sk-toggleable__content pre {margin: 0.2em;color: black;border-radius: 0.25em;background-color: #f0f8ff;}#sk-container-id-1 input.sk-toggleable__control:checked~div.sk-toggleable__content {max-height: 200px;max-width: 100%;overflow: auto;}#sk-container-id-1 input.sk-toggleable__control:checked~label.sk-toggleable__label-arrow:before {content: \"▾\";}#sk-container-id-1 div.sk-estimator input.sk-toggleable__control:checked~label.sk-toggleable__label {background-color: #d4ebff;}#sk-container-id-1 div.sk-label input.sk-toggleable__control:checked~label.sk-toggleable__label {background-color: #d4ebff;}#sk-container-id-1 input.sk-hidden--visually {border: 0;clip: rect(1px 1px 1px 1px);clip: rect(1px, 1px, 1px, 1px);height: 1px;margin: -1px;overflow: hidden;padding: 0;position: absolute;width: 1px;}#sk-container-id-1 div.sk-estimator {font-family: monospace;background-color: #f0f8ff;border: 1px dotted black;border-radius: 0.25em;box-sizing: border-box;margin-bottom: 0.5em;}#sk-container-id-1 div.sk-estimator:hover {background-color: #d4ebff;}#sk-container-id-1 div.sk-parallel-item::after {content: \"\";width: 100%;border-bottom: 1px solid gray;flex-grow: 1;}#sk-container-id-1 div.sk-label:hover label.sk-toggleable__label {background-color: #d4ebff;}#sk-container-id-1 div.sk-serial::before {content: \"\";position: absolute;border-left: 1px solid gray;box-sizing: border-box;top: 0;bottom: 0;left: 50%;z-index: 0;}#sk-container-id-1 div.sk-serial {display: flex;flex-direction: column;align-items: center;background-color: white;padding-right: 0.2em;padding-left: 0.2em;position: relative;}#sk-container-id-1 div.sk-item {position: relative;z-index: 1;}#sk-container-id-1 div.sk-parallel {display: flex;align-items: stretch;justify-content: center;background-color: white;position: relative;}#sk-container-id-1 div.sk-item::before, #sk-container-id-1 div.sk-parallel-item::before {content: \"\";position: absolute;border-left: 1px solid gray;box-sizing: border-box;top: 0;bottom: 0;left: 50%;z-index: -1;}#sk-container-id-1 div.sk-parallel-item {display: flex;flex-direction: column;z-index: 1;position: relative;background-color: white;}#sk-container-id-1 div.sk-parallel-item:first-child::after {align-self: flex-end;width: 50%;}#sk-container-id-1 div.sk-parallel-item:last-child::after {align-self: flex-start;width: 50%;}#sk-container-id-1 div.sk-parallel-item:only-child::after {width: 0;}#sk-container-id-1 div.sk-dashed-wrapped {border: 1px dashed gray;margin: 0 0.4em 0.5em 0.4em;box-sizing: border-box;padding-bottom: 0.4em;background-color: white;}#sk-container-id-1 div.sk-label label {font-family: monospace;font-weight: bold;display: inline-block;line-height: 1.2em;}#sk-container-id-1 div.sk-label-container {text-align: center;}#sk-container-id-1 div.sk-container {/* jupyter's `normalize.less` sets `[hidden] { display: none; }` but bootstrap.min.css set `[hidden] { display: none !important; }` so we also need the `!important` here to be able to override the default hidden behavior on the sphinx rendered scikit-learn.org. See: https://github.com/scikit-learn/scikit-learn/issues/21755 */display: inline-block !important;position: relative;}#sk-container-id-1 div.sk-text-repr-fallback {display: none;}</style><div id=\"sk-container-id-1\" class=\"sk-top-container\"><div class=\"sk-text-repr-fallback\"><pre>LinearRegression()</pre><b>In a Jupyter environment, please rerun this cell to show the HTML representation or trust the notebook. <br />On GitHub, the HTML representation is unable to render, please try loading this page with nbviewer.org.</b></div><div class=\"sk-container\" hidden><div class=\"sk-item\"><div class=\"sk-estimator sk-toggleable\"><input class=\"sk-toggleable__control sk-hidden--visually\" id=\"sk-estimator-id-1\" type=\"checkbox\" checked><label for=\"sk-estimator-id-1\" class=\"sk-toggleable__label sk-toggleable__label-arrow\">LinearRegression</label><div class=\"sk-toggleable__content\"><pre>LinearRegression()</pre></div></div></div></div></div>"
      ],
      "text/plain": [
       "LinearRegression()"
      ]
     },
     "execution_count": 6,
     "metadata": {},
     "output_type": "execute_result"
    }
   ],
   "source": [
    "from sklearn.linear_model import LinearRegression\n",
    "reg = LinearRegression()    # 객체 생성\n",
    "reg.fit(X, y)           # 학습 (모델생성)"
   ]
  },
  {
   "cell_type": "code",
   "execution_count": 7,
   "metadata": {},
   "outputs": [
    {
     "data": {
      "text/plain": [
       "array([  5.00336377,  12.31395163,  18.58016979,  24.84638795,\n",
       "        26.93512734,  33.20134551,  40.51193337,  45.73378184,\n",
       "        46.77815153,  52.        ,  55.13310908,  60.35495755,\n",
       "        62.44369694,  63.48806663,  64.53243633,  71.84302419,\n",
       "        74.97613327,  87.5085696 ,  89.59730899, 104.2184847 ])"
      ]
     },
     "execution_count": 7,
     "metadata": {},
     "output_type": "execute_result"
    }
   ],
   "source": [
    "y_pred = reg.predict(X)   # X에 대한 예측 값\n",
    "y_pred"
   ]
  },
  {
   "cell_type": "code",
   "execution_count": 9,
   "metadata": {},
   "outputs": [
    {
     "data": {
      "image/png": "[encoded data removed]",
      "text/plain": [
       "<Figure size 432x288 with 1 Axes>"
      ]
     },
     "metadata": {
      "needs_background": "light"
     },
     "output_type": "display_data"
    }
   ],
   "source": [
    "plt.scatter(X, y, color='blue') # 산점도 \n",
    "plt.plot(X, y_pred, color='green')   # 선 그래프\n",
    "plt.title('Score by hours')\n",
    "plt.xlabel('hours')\n",
    "plt.ylabel('score')\n",
    "plt.show()"
   ]
  },
  {
   "cell_type": "code",
   "execution_count": 11,
   "metadata": {},
   "outputs": [
    {
     "name": "stdout",
     "output_type": "stream",
     "text": [
      "9시간 공부했을 때 예상점수 :  [93.77478776]\n"
     ]
    }
   ],
   "source": [
    "print('9시간 공부했을 때 예상점수 : ', reg.predict([[9]]))   # [[9], [8], [7]]"
   ]
  },
  {
   "cell_type": "code",
   "execution_count": 10,
   "metadata": {},
   "outputs": [
    {
     "data": {
      "text/plain": [
       "array([10.44369694])"
      ]
     },
     "execution_count": 10,
     "metadata": {},
     "output_type": "execute_result"
    }
   ],
   "source": [
    "reg.coef_  # 기울기 (m)"
   ]
  },
  {
   "cell_type": "code",
   "execution_count": 11,
   "metadata": {},
   "outputs": [
    {
     "data": {
      "text/plain": [
       "-0.218484702867201"
      ]
     },
     "execution_count": 11,
     "metadata": {},
     "output_type": "execute_result"
    }
   ],
   "source": [
    "reg.intercept_  # y 절편 (b)"
   ]
  },
  {
   "cell_type": "code",
   "execution_count": null,
   "metadata": {},
   "outputs": [],
   "source": [
    "# y = mx + b  -> y = 10.4436 x - 0.2184"
   ]
  },
  {
   "cell_type": "markdown",
   "metadata": {},
   "source": [
    "### 데이터 세트 분리"
   ]
  },
  {
   "cell_type": "code",
   "execution_count": 2,
   "metadata": {},
   "outputs": [],
   "source": [
    "import matplotlib.pyplot as plt\n",
    "import pandas as pd"
   ]
  },
  {
   "cell_type": "code",
   "execution_count": 3,
   "metadata": {},
   "outputs": [
    {
     "data": {
      "text/html": [
       "<div>\n",
       "<style scoped>\n",
       "    .dataframe tbody tr th:only-of-type {\n",
       "        vertical-align: middle;\n",
       "    }\n",
       "\n",
       "    .dataframe tbody tr th {\n",
       "        vertical-align: top;\n",
       "    }\n",
       "\n",
       "    .dataframe thead th {\n",
       "        text-align: right;\n",
       "    }\n",
       "</style>\n",
       "<table border=\"1\" class=\"dataframe\">\n",
       "  <thead>\n",
       "    <tr style=\"text-align: right;\">\n",
       "      <th></th>\n",
       "      <th>hour</th>\n",
       "      <th>score</th>\n",
       "    </tr>\n",
       "  </thead>\n",
       "  <tbody>\n",
       "    <tr>\n",
       "      <th>0</th>\n",
       "      <td>0.5</td>\n",
       "      <td>10</td>\n",
       "    </tr>\n",
       "    <tr>\n",
       "      <th>1</th>\n",
       "      <td>1.2</td>\n",
       "      <td>8</td>\n",
       "    </tr>\n",
       "    <tr>\n",
       "      <th>2</th>\n",
       "      <td>1.8</td>\n",
       "      <td>14</td>\n",
       "    </tr>\n",
       "    <tr>\n",
       "      <th>3</th>\n",
       "      <td>2.4</td>\n",
       "      <td>26</td>\n",
       "    </tr>\n",
       "    <tr>\n",
       "      <th>4</th>\n",
       "      <td>2.6</td>\n",
       "      <td>22</td>\n",
       "    </tr>\n",
       "    <tr>\n",
       "      <th>5</th>\n",
       "      <td>3.2</td>\n",
       "      <td>30</td>\n",
       "    </tr>\n",
       "    <tr>\n",
       "      <th>6</th>\n",
       "      <td>3.9</td>\n",
       "      <td>42</td>\n",
       "    </tr>\n",
       "    <tr>\n",
       "      <th>7</th>\n",
       "      <td>4.4</td>\n",
       "      <td>48</td>\n",
       "    </tr>\n",
       "    <tr>\n",
       "      <th>8</th>\n",
       "      <td>4.5</td>\n",
       "      <td>38</td>\n",
       "    </tr>\n",
       "    <tr>\n",
       "      <th>9</th>\n",
       "      <td>5.0</td>\n",
       "      <td>58</td>\n",
       "    </tr>\n",
       "    <tr>\n",
       "      <th>10</th>\n",
       "      <td>5.3</td>\n",
       "      <td>60</td>\n",
       "    </tr>\n",
       "    <tr>\n",
       "      <th>11</th>\n",
       "      <td>5.8</td>\n",
       "      <td>72</td>\n",
       "    </tr>\n",
       "    <tr>\n",
       "      <th>12</th>\n",
       "      <td>6.0</td>\n",
       "      <td>62</td>\n",
       "    </tr>\n",
       "    <tr>\n",
       "      <th>13</th>\n",
       "      <td>6.1</td>\n",
       "      <td>68</td>\n",
       "    </tr>\n",
       "    <tr>\n",
       "      <th>14</th>\n",
       "      <td>6.2</td>\n",
       "      <td>72</td>\n",
       "    </tr>\n",
       "    <tr>\n",
       "      <th>15</th>\n",
       "      <td>6.9</td>\n",
       "      <td>58</td>\n",
       "    </tr>\n",
       "    <tr>\n",
       "      <th>16</th>\n",
       "      <td>7.2</td>\n",
       "      <td>76</td>\n",
       "    </tr>\n",
       "    <tr>\n",
       "      <th>17</th>\n",
       "      <td>8.4</td>\n",
       "      <td>86</td>\n",
       "    </tr>\n",
       "    <tr>\n",
       "      <th>18</th>\n",
       "      <td>8.6</td>\n",
       "      <td>90</td>\n",
       "    </tr>\n",
       "    <tr>\n",
       "      <th>19</th>\n",
       "      <td>10.0</td>\n",
       "      <td>100</td>\n",
       "    </tr>\n",
       "  </tbody>\n",
       "</table>\n",
       "</div>"
      ],
      "text/plain": [
       "    hour  score\n",
       "0    0.5     10\n",
       "1    1.2      8\n",
       "2    1.8     14\n",
       "3    2.4     26\n",
       "4    2.6     22\n",
       "5    3.2     30\n",
       "6    3.9     42\n",
       "7    4.4     48\n",
       "8    4.5     38\n",
       "9    5.0     58\n",
       "10   5.3     60\n",
       "11   5.8     72\n",
       "12   6.0     62\n",
       "13   6.1     68\n",
       "14   6.2     72\n",
       "15   6.9     58\n",
       "16   7.2     76\n",
       "17   8.4     86\n",
       "18   8.6     90\n",
       "19  10.0    100"
      ]
     },
     "execution_count": 3,
     "metadata": {},
     "output_type": "execute_result"
    }
   ],
   "source": [
    "dataset = pd.read_csv('LinearRegressionData.csv')\n",
    "dataset"
   ]
  },
  {
   "cell_type": "code",
   "execution_count": 4,
   "metadata": {},
   "outputs": [],
   "source": [
    "X = dataset.iloc[:, :-1].values\n",
    "y = dataset.iloc[:, -1].values"
   ]
  },
  {
   "cell_type": "code",
   "execution_count": 5,
   "metadata": {},
   "outputs": [],
   "source": [
    "from sklearn.model_selection import train_test_split\n",
    "X_train, X_test, y_train, y_test = train_test_split(X, y, test_size=0.2, random_state=0)  # 훈련 80: 테스트 20으로 분리"
   ]
  },
  {
   "cell_type": "code",
   "execution_count": 5,
   "metadata": {},
   "outputs": [
    {
     "data": {
      "text/plain": [
       "(array([[ 0.5],\n",
       "        [ 1.2],\n",
       "        [ 1.8],\n",
       "        [ 2.4],\n",
       "        [ 2.6],\n",
       "        [ 3.2],\n",
       "        [ 3.9],\n",
       "        [ 4.4],\n",
       "        [ 4.5],\n",
       "        [ 5. ],\n",
       "        [ 5.3],\n",
       "        [ 5.8],\n",
       "        [ 6. ],\n",
       "        [ 6.1],\n",
       "        [ 6.2],\n",
       "        [ 6.9],\n",
       "        [ 7.2],\n",
       "        [ 8.4],\n",
       "        [ 8.6],\n",
       "        [10. ]]),\n",
       " 20)"
      ]
     },
     "execution_count": 5,
     "metadata": {},
     "output_type": "execute_result"
    }
   ],
   "source": [
    "X, len(X)"
   ]
  },
  {
   "cell_type": "code",
   "execution_count": 6,
   "metadata": {},
   "outputs": [
    {
     "data": {
      "text/plain": [
       "(array([[5.3],\n",
       "        [8.4],\n",
       "        [3.9],\n",
       "        [6.1],\n",
       "        [2.6],\n",
       "        [1.8],\n",
       "        [3.2],\n",
       "        [6.2],\n",
       "        [5. ],\n",
       "        [4.4],\n",
       "        [7.2],\n",
       "        [5.8],\n",
       "        [2.4],\n",
       "        [0.5],\n",
       "        [6.9],\n",
       "        [6. ]]),\n",
       " 16)"
      ]
     },
     "execution_count": 6,
     "metadata": {},
     "output_type": "execute_result"
    }
   ],
   "source": [
    "X_train, len(X_train)"
   ]
  },
  {
   "cell_type": "code",
   "execution_count": 7,
   "metadata": {},
   "outputs": [
    {
     "data": {
      "text/plain": [
       "(array([[ 8.6],\n",
       "        [ 1.2],\n",
       "        [10. ],\n",
       "        [ 4.5]]),\n",
       " 4)"
      ]
     },
     "execution_count": 7,
     "metadata": {},
     "output_type": "execute_result"
    }
   ],
   "source": [
    "X_test, len(X_test)  # 테스트 세트 X, 개수"
   ]
  },
  {
   "cell_type": "code",
   "execution_count": 8,
   "metadata": {},
   "outputs": [
    {
     "data": {
      "text/plain": [
       "(array([ 10,   8,  14,  26,  22,  30,  42,  48,  38,  58,  60,  72,  62,\n",
       "         68,  72,  58,  76,  86,  90, 100], dtype=int64),\n",
       " 20)"
      ]
     },
     "execution_count": 8,
     "metadata": {},
     "output_type": "execute_result"
    }
   ],
   "source": [
    "y, len(y)  # 전체 데이터 y"
   ]
  },
  {
   "cell_type": "code",
   "execution_count": 9,
   "metadata": {},
   "outputs": [
    {
     "data": {
      "text/plain": [
       "(array([60, 86, 42, 68, 22, 14, 30, 72, 58, 48, 76, 72, 26, 10, 58, 62],\n",
       "       dtype=int64),\n",
       " 16)"
      ]
     },
     "execution_count": 9,
     "metadata": {},
     "output_type": "execute_result"
    }
   ],
   "source": [
    "y_train, len(y_train)"
   ]
  },
  {
   "cell_type": "code",
   "execution_count": 6,
   "metadata": {},
   "outputs": [
    {
     "data": {
      "text/plain": [
       "(array([ 90,   8, 100,  38], dtype=int64), 4)"
      ]
     },
     "execution_count": 6,
     "metadata": {},
     "output_type": "execute_result"
    }
   ],
   "source": [
    "y_test, len(y_test)"
   ]
  },
  {
   "cell_type": "markdown",
   "metadata": {},
   "source": [
    "### 분리된 데이터를 통한 모델링"
   ]
  },
  {
   "cell_type": "code",
   "execution_count": 7,
   "metadata": {},
   "outputs": [],
   "source": [
    "from sklearn.linear_model import LinearRegression\n",
    "reg = LinearRegression()"
   ]
  },
  {
   "cell_type": "code",
   "execution_count": 8,
   "metadata": {},
   "outputs": [
    {
     "data": {
      "text/html": [
       "<style>#sk-container-id-1 {color: black;background-color: white;}#sk-container-id-1 pre{padding: 0;}#sk-container-id-1 div.sk-toggleable {background-color: white;}#sk-container-id-1 label.sk-toggleable__label {cursor: pointer;display: block;width: 100%;margin-bottom: 0;padding: 0.3em;box-sizing: border-box;text-align: center;}#sk-container-id-1 label.sk-toggleable__label-arrow:before {content: \"▸\";float: left;margin-right: 0.25em;color: #696969;}#sk-container-id-1 label.sk-toggleable__label-arrow:hover:before {color: black;}#sk-container-id-1 div.sk-estimator:hover label.sk-toggleable__label-arrow:before {color: black;}#sk-container-id-1 div.sk-toggleable__content {max-height: 0;max-width: 0;overflow: hidden;text-align: left;background-color: #f0f8ff;}#sk-container-id-1 div.sk-toggleable__content pre {margin: 0.2em;color: black;border-radius: 0.25em;background-color: #f0f8ff;}#sk-container-id-1 input.sk-toggleable__control:checked~div.sk-toggleable__content {max-height: 200px;max-width: 100%;overflow: auto;}#sk-container-id-1 input.sk-toggleable__control:checked~label.sk-toggleable__label-arrow:before {content: \"▾\";}#sk-container-id-1 div.sk-estimator input.sk-toggleable__control:checked~label.sk-toggleable__label {background-color: #d4ebff;}#sk-container-id-1 div.sk-label input.sk-toggleable__control:checked~label.sk-toggleable__label {background-color: #d4ebff;}#sk-container-id-1 input.sk-hidden--visually {border: 0;clip: rect(1px 1px 1px 1px);clip: rect(1px, 1px, 1px, 1px);height: 1px;margin: -1px;overflow: hidden;padding: 0;position: absolute;width: 1px;}#sk-container-id-1 div.sk-estimator {font-family: monospace;background-color: #f0f8ff;border: 1px dotted black;border-radius: 0.25em;box-sizing: border-box;margin-bottom: 0.5em;}#sk-container-id-1 div.sk-estimator:hover {background-color: #d4ebff;}#sk-container-id-1 div.sk-parallel-item::after {content: \"\";width: 100%;border-bottom: 1px solid gray;flex-grow: 1;}#sk-container-id-1 div.sk-label:hover label.sk-toggleable__label {background-color: #d4ebff;}#sk-container-id-1 div.sk-serial::before {content: \"\";position: absolute;border-left: 1px solid gray;box-sizing: border-box;top: 0;bottom: 0;left: 50%;z-index: 0;}#sk-container-id-1 div.sk-serial {display: flex;flex-direction: column;align-items: center;background-color: white;padding-right: 0.2em;padding-left: 0.2em;position: relative;}#sk-container-id-1 div.sk-item {position: relative;z-index: 1;}#sk-container-id-1 div.sk-parallel {display: flex;align-items: stretch;justify-content: center;background-color: white;position: relative;}#sk-container-id-1 div.sk-item::before, #sk-container-id-1 div.sk-parallel-item::before {content: \"\";position: absolute;border-left: 1px solid gray;box-sizing: border-box;top: 0;bottom: 0;left: 50%;z-index: -1;}#sk-container-id-1 div.sk-parallel-item {display: flex;flex-direction: column;z-index: 1;position: relative;background-color: white;}#sk-container-id-1 div.sk-parallel-item:first-child::after {align-self: flex-end;width: 50%;}#sk-container-id-1 div.sk-parallel-item:last-child::after {align-self: flex-start;width: 50%;}#sk-container-id-1 div.sk-parallel-item:only-child::after {width: 0;}#sk-container-id-1 div.sk-dashed-wrapped {border: 1px dashed gray;margin: 0 0.4em 0.5em 0.4em;box-sizing: border-box;padding-bottom: 0.4em;background-color: white;}#sk-container-id-1 div.sk-label label {font-family: monospace;font-weight: bold;display: inline-block;line-height: 1.2em;}#sk-container-id-1 div.sk-label-container {text-align: center;}#sk-container-id-1 div.sk-container {/* jupyter's `normalize.less` sets `[hidden] { display: none; }` but bootstrap.min.css set `[hidden] { display: none !important; }` so we also need the `!important` here to be able to override the default hidden behavior on the sphinx rendered scikit-learn.org. See: https://github.com/scikit-learn/scikit-learn/issues/21755 */display: inline-block !important;position: relative;}#sk-container-id-1 div.sk-text-repr-fallback {display: none;}</style><div id=\"sk-container-id-1\" class=\"sk-top-container\"><div class=\"sk-text-repr-fallback\"><pre>LinearRegression()</pre><b>In a Jupyter environment, please rerun this cell to show the HTML representation or trust the notebook. <br />On GitHub, the HTML representation is unable to render, please try loading this page with nbviewer.org.</b></div><div class=\"sk-container\" hidden><div class=\"sk-item\"><div class=\"sk-estimator sk-toggleable\"><input class=\"sk-toggleable__control sk-hidden--visually\" id=\"sk-estimator-id-1\" type=\"checkbox\" checked><label for=\"sk-estimator-id-1\" class=\"sk-toggleable__label sk-toggleable__label-arrow\">LinearRegression</label><div class=\"sk-toggleable__content\"><pre>LinearRegression()</pre></div></div></div></div></div>"
      ],
      "text/plain": [
       "LinearRegression()"
      ]
     },
     "execution_count": 8,
     "metadata": {},
     "output_type": "execute_result"
    }
   ],
   "source": [
    "reg.fit(X_train, y_train)   # 훈련 세트로 학습"
   ]
  },
  {
   "cell_type": "markdown",
   "metadata": {},
   "source": [
    "### 데이터 시각화 (훈련세트)"
   ]
  },
  {
   "cell_type": "code",
   "execution_count": 9,
   "metadata": {},
   "outputs": [
    {
     "data": {
      "image/png": "[encoded data removed]",
      "text/plain": [
       "<Figure size 432x288 with 1 Axes>"
      ]
     },
     "metadata": {
      "needs_background": "light"
     },
     "output_type": "display_data"
    }
   ],
   "source": [
    "plt.scatter(X_train, y_train, color='blue') # 산점도 \n",
    "plt.plot(X_train, reg.predict(X_train), color='green')   # 선 그래프\n",
    "plt.title('Score by hours (train data)')\n",
    "plt.xlabel('hours')\n",
    "plt.ylabel('score')\n",
    "plt.show()"
   ]
  },
  {
   "cell_type": "markdown",
   "metadata": {},
   "source": [
    "### 데이터 시각화 (테스트 세트)"
   ]
  },
  {
   "cell_type": "code",
   "execution_count": 10,
   "metadata": {},
   "outputs": [
    {
     "data": {
      "image/png": "[encoded data removed]",
      "text/plain": [
       "<Figure size 432x288 with 1 Axes>"
      ]
     },
     "metadata": {
      "needs_background": "light"
     },
     "output_type": "display_data"
    }
   ],
   "source": [
    "plt.scatter(X_test, y_test, color='blue') # 산점도 \n",
    "plt.plot(X_train, reg.predict(X_train), color='green')   # 선 그래프\n",
    "plt.title('Score by hours (test data)')\n",
    "plt.xlabel('hours')\n",
    "plt.ylabel('score')\n",
    "plt.show()"
   ]
  },
  {
   "cell_type": "code",
   "execution_count": 17,
   "metadata": {},
   "outputs": [
    {
     "data": {
      "text/plain": [
       "array([10.49161294])"
      ]
     },
     "execution_count": 17,
     "metadata": {},
     "output_type": "execute_result"
    }
   ],
   "source": [
    "reg.coef_"
   ]
  },
  {
   "cell_type": "code",
   "execution_count": 18,
   "metadata": {},
   "outputs": [
    {
     "data": {
      "text/plain": [
       "0.6115562905169369"
      ]
     },
     "execution_count": 18,
     "metadata": {},
     "output_type": "execute_result"
    }
   ],
   "source": [
    "reg.intercept_"
   ]
  },
  {
   "cell_type": "markdown",
   "metadata": {},
   "source": [
    "### 모델 평가"
   ]
  },
  {
   "cell_type": "code",
   "execution_count": 19,
   "metadata": {},
   "outputs": [
    {
     "data": {
      "text/plain": [
       "0.9727616474310156"
      ]
     },
     "execution_count": 19,
     "metadata": {},
     "output_type": "execute_result"
    }
   ],
   "source": [
    "reg.score(X_test, y_test)  # 테스트 세트를 통한 모델 평가"
   ]
  },
  {
   "cell_type": "code",
   "execution_count": 11,
   "metadata": {},
   "outputs": [
    {
     "data": {
      "text/plain": [
       "0.9356663661221668"
      ]
     },
     "execution_count": 11,
     "metadata": {},
     "output_type": "execute_result"
    }
   ],
   "source": [
    "reg.score(X_train, y_train)"
   ]
  },
  {
   "cell_type": "markdown",
   "metadata": {},
   "source": [
    "### 경사하강법 (Gradient Descent)"
   ]
  },
  {
   "cell_type": "code",
   "execution_count": 13,
   "metadata": {},
   "outputs": [
    {
     "data": {
      "text/html": [
       "<style>#sk-container-id-3 {color: black;background-color: white;}#sk-container-id-3 pre{padding: 0;}#sk-container-id-3 div.sk-toggleable {background-color: white;}#sk-container-id-3 label.sk-toggleable__label {cursor: pointer;display: block;width: 100%;margin-bottom: 0;padding: 0.3em;box-sizing: border-box;text-align: center;}#sk-container-id-3 label.sk-toggleable__label-arrow:before {content: \"▸\";float: left;margin-right: 0.25em;color: #696969;}#sk-container-id-3 label.sk-toggleable__label-arrow:hover:before {color: black;}#sk-container-id-3 div.sk-estimator:hover label.sk-toggleable__label-arrow:before {color: black;}#sk-container-id-3 div.sk-toggleable__content {max-height: 0;max-width: 0;overflow: hidden;text-align: left;background-color: #f0f8ff;}#sk-container-id-3 div.sk-toggleable__content pre {margin: 0.2em;color: black;border-radius: 0.25em;background-color: #f0f8ff;}#sk-container-id-3 input.sk-toggleable__control:checked~div.sk-toggleable__content {max-height: 200px;max-width: 100%;overflow: auto;}#sk-container-id-3 input.sk-toggleable__control:checked~label.sk-toggleable__label-arrow:before {content: \"▾\";}#sk-container-id-3 div.sk-estimator input.sk-toggleable__control:checked~label.sk-toggleable__label {background-color: #d4ebff;}#sk-container-id-3 div.sk-label input.sk-toggleable__control:checked~label.sk-toggleable__label {background-color: #d4ebff;}#sk-container-id-3 input.sk-hidden--visually {border: 0;clip: rect(1px 1px 1px 1px);clip: rect(1px, 1px, 1px, 1px);height: 1px;margin: -1px;overflow: hidden;padding: 0;position: absolute;width: 1px;}#sk-container-id-3 div.sk-estimator {font-family: monospace;background-color: #f0f8ff;border: 1px dotted black;border-radius: 0.25em;box-sizing: border-box;margin-bottom: 0.5em;}#sk-container-id-3 div.sk-estimator:hover {background-color: #d4ebff;}#sk-container-id-3 div.sk-parallel-item::after {content: \"\";width: 100%;border-bottom: 1px solid gray;flex-grow: 1;}#sk-container-id-3 div.sk-label:hover label.sk-toggleable__label {background-color: #d4ebff;}#sk-container-id-3 div.sk-serial::before {content: \"\";position: absolute;border-left: 1px solid gray;box-sizing: border-box;top: 0;bottom: 0;left: 50%;z-index: 0;}#sk-container-id-3 div.sk-serial {display: flex;flex-direction: column;align-items: center;background-color: white;padding-right: 0.2em;padding-left: 0.2em;position: relative;}#sk-container-id-3 div.sk-item {position: relative;z-index: 1;}#sk-container-id-3 div.sk-parallel {display: flex;align-items: stretch;justify-content: center;background-color: white;position: relative;}#sk-container-id-3 div.sk-item::before, #sk-container-id-3 div.sk-parallel-item::before {content: \"\";position: absolute;border-left: 1px solid gray;box-sizing: border-box;top: 0;bottom: 0;left: 50%;z-index: -1;}#sk-container-id-3 div.sk-parallel-item {display: flex;flex-direction: column;z-index: 1;position: relative;background-color: white;}#sk-container-id-3 div.sk-parallel-item:first-child::after {align-self: flex-end;width: 50%;}#sk-container-id-3 div.sk-parallel-item:last-child::after {align-self: flex-start;width: 50%;}#sk-container-id-3 div.sk-parallel-item:only-child::after {width: 0;}#sk-container-id-3 div.sk-dashed-wrapped {border: 1px dashed gray;margin: 0 0.4em 0.5em 0.4em;box-sizing: border-box;padding-bottom: 0.4em;background-color: white;}#sk-container-id-3 div.sk-label label {font-family: monospace;font-weight: bold;display: inline-block;line-height: 1.2em;}#sk-container-id-3 div.sk-label-container {text-align: center;}#sk-container-id-3 div.sk-container {/* jupyter's `normalize.less` sets `[hidden] { display: none; }` but bootstrap.min.css set `[hidden] { display: none !important; }` so we also need the `!important` here to be able to override the default hidden behavior on the sphinx rendered scikit-learn.org. See: https://github.com/scikit-learn/scikit-learn/issues/21755 */display: inline-block !important;position: relative;}#sk-container-id-3 div.sk-text-repr-fallback {display: none;}</style><div id=\"sk-container-id-3\" class=\"sk-top-container\"><div class=\"sk-text-repr-fallback\"><pre>SGDRegressor()</pre><b>In a Jupyter environment, please rerun this cell to show the HTML representation or trust the notebook. <br />On GitHub, the HTML representation is unable to render, please try loading this page with nbviewer.org.</b></div><div class=\"sk-container\" hidden><div class=\"sk-item\"><div class=\"sk-estimator sk-toggleable\"><input class=\"sk-toggleable__control sk-hidden--visually\" id=\"sk-estimator-id-3\" type=\"checkbox\" checked><label for=\"sk-estimator-id-3\" class=\"sk-toggleable__label sk-toggleable__label-arrow\">SGDRegressor</label><div class=\"sk-toggleable__content\"><pre>SGDRegressor()</pre></div></div></div></div></div>"
      ],
      "text/plain": [
       "SGDRegressor()"
      ]
     },
     "execution_count": 13,
     "metadata": {},
     "output_type": "execute_result"
    }
   ],
   "source": [
    "from sklearn.linear_model import SGDRegressor  # SGD : Stochastic Gradient Descent 확률적 경사 하강법\n",
    "sr = SGDRegressor()\n",
    "sr.fit(X_train, y_train)"
   ]
  },
  {
   "cell_type": "code",
   "execution_count": 14,
   "metadata": {},
   "outputs": [
    {
     "data": {
      "image/png": "[encoded data removed]",
      "text/plain": [
       "<Figure size 432x288 with 1 Axes>"
      ]
     },
     "metadata": {
      "needs_background": "light"
     },
     "output_type": "display_data"
    }
   ],
   "source": [
    "plt.scatter(X_train, y_train, color='blue') # 산점도 \n",
    "plt.plot(X_train, sr.predict(X_train), color='green')   # 선 그래프\n",
    "plt.title('Score by hours (train data, SGD)')\n",
    "plt.xlabel('hours')\n",
    "plt.ylabel('score')\n",
    "plt.show()"
   ]
  },
  {
   "cell_type": "code",
   "execution_count": 15,
   "metadata": {},
   "outputs": [
    {
     "data": {
      "text/plain": [
       "(array([10.14072843]), array([1.57996726]))"
      ]
     },
     "execution_count": 15,
     "metadata": {},
     "output_type": "execute_result"
    }
   ],
   "source": [
    "sr.coef_, sr.intercept_"
   ]
  },
  {
   "cell_type": "code",
   "execution_count": 16,
   "metadata": {},
   "outputs": [
    {
     "data": {
      "text/plain": [
       "0.9774243005385271"
      ]
     },
     "execution_count": 16,
     "metadata": {},
     "output_type": "execute_result"
    }
   ],
   "source": [
    "sr.score(X_test, y_test)  # 테스트 세트를 통한 모델 평가 "
   ]
  },
  {
   "cell_type": "code",
   "execution_count": 18,
   "metadata": {},
   "outputs": [
    {
     "data": {
      "text/plain": [
       "0.9337039730986324"
      ]
     },
     "execution_count": 18,
     "metadata": {},
     "output_type": "execute_result"
    }
   ],
   "source": [
    "sr.score(X_train, y_train)  # 훈련 세트를 통한 모델 평가"
   ]
  },
  {
   "cell_type": "markdown",
   "metadata": {},
   "source": [
    "### 계수 정의 후\n",
    "max_iter : 훈련세트 반복 횟수 (epoch 회수)\n",
    "eta0 : 학습률 (learning rate)\n",
    "   지수 표기법\n",
    "   1e-3 : 0.001 (10^-3)\n",
    "   1e-4 : 0.0001 (10^-4)"
   ]
  },
  {
   "cell_type": "code",
   "execution_count": 28,
   "metadata": {},
   "outputs": [
    {
     "name": "stdout",
     "output_type": "stream",
     "text": [
      "-- Epoch 1\n",
      "Norm: 0.27, NNZs: 1, Bias: 0.048869, T: 16, Avg. loss: 1484.241876\n",
      "Total training time: 0.00 seconds.\n",
      "-- Epoch 2\n",
      "Norm: 0.47, NNZs: 1, Bias: 0.083896, T: 32, Avg. loss: 1419.741822\n",
      "Total training time: 0.00 seconds.\n",
      "-- Epoch 3\n",
      "Norm: 0.64, NNZs: 1, Bias: 0.114272, T: 48, Avg. loss: 1367.983092\n",
      "Total training time: 0.00 seconds.\n",
      "-- Epoch 4\n",
      "Norm: 0.79, NNZs: 1, Bias: 0.141552, T: 64, Avg. loss: 1322.870279\n",
      "Total training time: 0.00 seconds.\n",
      "-- Epoch 5\n",
      "Norm: 0.94, NNZs: 1, Bias: 0.166772, T: 80, Avg. loss: 1282.550224\n",
      "Total training time: 0.00 seconds.\n",
      "-- Epoch 6\n",
      "Norm: 1.07, NNZs: 1, Bias: 0.190476, T: 96, Avg. loss: 1245.587071\n",
      "Total training time: 0.00 seconds.\n",
      "-- Epoch 7\n",
      "Norm: 1.20, NNZs: 1, Bias: 0.212877, T: 112, Avg. loss: 1211.227118\n",
      "Total training time: 0.00 seconds.\n",
      "-- Epoch 8\n",
      "Norm: 1.32, NNZs: 1, Bias: 0.234194, T: 128, Avg. loss: 1179.037565\n",
      "Total training time: 0.00 seconds.\n",
      "-- Epoch 9\n",
      "Norm: 1.43, NNZs: 1, Bias: 0.254556, T: 144, Avg. loss: 1148.814106\n",
      "Total training time: 0.00 seconds.\n",
      "-- Epoch 10\n",
      "Norm: 1.54, NNZs: 1, Bias: 0.274134, T: 160, Avg. loss: 1120.251662\n",
      "Total training time: 0.00 seconds.\n",
      "-- Epoch 11\n",
      "Norm: 1.65, NNZs: 1, Bias: 0.292981, T: 176, Avg. loss: 1093.110571\n",
      "Total training time: 0.00 seconds.\n",
      "-- Epoch 12\n",
      "Norm: 1.75, NNZs: 1, Bias: 0.311189, T: 192, Avg. loss: 1067.211902\n",
      "Total training time: 0.00 seconds.\n",
      "-- Epoch 13\n",
      "Norm: 1.85, NNZs: 1, Bias: 0.328785, T: 208, Avg. loss: 1042.516297\n",
      "Total training time: 0.00 seconds.\n",
      "-- Epoch 14\n",
      "Norm: 1.95, NNZs: 1, Bias: 0.345870, T: 224, Avg. loss: 1018.879566\n",
      "Total training time: 0.00 seconds.\n",
      "-- Epoch 15\n",
      "Norm: 2.04, NNZs: 1, Bias: 0.362460, T: 240, Avg. loss: 996.181074\n",
      "Total training time: 0.00 seconds.\n",
      "-- Epoch 16\n",
      "Norm: 2.13, NNZs: 1, Bias: 0.378587, T: 256, Avg. loss: 974.361266\n",
      "Total training time: 0.00 seconds.\n",
      "-- Epoch 17\n",
      "Norm: 2.22, NNZs: 1, Bias: 0.394284, T: 272, Avg. loss: 953.386926\n",
      "Total training time: 0.00 seconds.\n",
      "-- Epoch 18\n",
      "Norm: 2.31, NNZs: 1, Bias: 0.409594, T: 288, Avg. loss: 933.187164\n",
      "Total training time: 0.00 seconds.\n",
      "-- Epoch 19\n",
      "Norm: 2.39, NNZs: 1, Bias: 0.424528, T: 304, Avg. loss: 913.690408\n",
      "Total training time: 0.00 seconds.\n",
      "-- Epoch 20\n",
      "Norm: 2.48, NNZs: 1, Bias: 0.439104, T: 320, Avg. loss: 894.861051\n",
      "Total training time: 0.00 seconds.\n",
      "-- Epoch 21\n",
      "Norm: 2.56, NNZs: 1, Bias: 0.453350, T: 336, Avg. loss: 876.666125\n",
      "Total training time: 0.00 seconds.\n",
      "-- Epoch 22\n",
      "Norm: 2.64, NNZs: 1, Bias: 0.467285, T: 352, Avg. loss: 859.068639\n",
      "Total training time: 0.00 seconds.\n",
      "-- Epoch 23\n",
      "Norm: 2.71, NNZs: 1, Bias: 0.480921, T: 368, Avg. loss: 842.018081\n",
      "Total training time: 0.00 seconds.\n",
      "-- Epoch 24\n",
      "Norm: 2.79, NNZs: 1, Bias: 0.494273, T: 384, Avg. loss: 825.486145\n",
      "Total training time: 0.00 seconds.\n",
      "-- Epoch 25\n",
      "Norm: 2.86, NNZs: 1, Bias: 0.507351, T: 400, Avg. loss: 809.468053\n",
      "Total training time: 0.00 seconds.\n",
      "-- Epoch 26\n",
      "Norm: 2.94, NNZs: 1, Bias: 0.520178, T: 416, Avg. loss: 793.927559\n",
      "Total training time: 0.00 seconds.\n",
      "-- Epoch 27\n",
      "Norm: 3.01, NNZs: 1, Bias: 0.532755, T: 432, Avg. loss: 778.832690\n",
      "Total training time: 0.00 seconds.\n",
      "-- Epoch 28\n",
      "Norm: 3.08, NNZs: 1, Bias: 0.545094, T: 448, Avg. loss: 764.166106\n",
      "Total training time: 0.00 seconds.\n",
      "-- Epoch 29\n",
      "Norm: 3.15, NNZs: 1, Bias: 0.557201, T: 464, Avg. loss: 749.924129\n",
      "Total training time: 0.00 seconds.\n",
      "-- Epoch 30\n",
      "Norm: 3.21, NNZs: 1, Bias: 0.569097, T: 480, Avg. loss: 736.071588\n",
      "Total training time: 0.00 seconds.\n",
      "-- Epoch 31\n",
      "Norm: 3.28, NNZs: 1, Bias: 0.580779, T: 496, Avg. loss: 722.588889\n",
      "Total training time: 0.00 seconds.\n",
      "-- Epoch 32\n",
      "Norm: 3.35, NNZs: 1, Bias: 0.592258, T: 512, Avg. loss: 709.462708\n",
      "Total training time: 0.00 seconds.\n",
      "-- Epoch 33\n",
      "Norm: 3.41, NNZs: 1, Bias: 0.603540, T: 528, Avg. loss: 696.686817\n",
      "Total training time: 0.00 seconds.\n",
      "-- Epoch 34\n",
      "Norm: 3.47, NNZs: 1, Bias: 0.614639, T: 544, Avg. loss: 684.244367\n",
      "Total training time: 0.00 seconds.\n",
      "-- Epoch 35\n",
      "Norm: 3.53, NNZs: 1, Bias: 0.625553, T: 560, Avg. loss: 672.113885\n",
      "Total training time: 0.00 seconds.\n",
      "-- Epoch 36\n",
      "Norm: 3.60, NNZs: 1, Bias: 0.636290, T: 576, Avg. loss: 660.287442\n",
      "Total training time: 0.00 seconds.\n",
      "-- Epoch 37\n",
      "Norm: 3.65, NNZs: 1, Bias: 0.646855, T: 592, Avg. loss: 648.762655\n",
      "Total training time: 0.00 seconds.\n",
      "-- Epoch 38\n",
      "Norm: 3.71, NNZs: 1, Bias: 0.657258, T: 608, Avg. loss: 637.523840\n",
      "Total training time: 0.00 seconds.\n",
      "-- Epoch 39\n",
      "Norm: 3.77, NNZs: 1, Bias: 0.667499, T: 624, Avg. loss: 626.551012\n",
      "Total training time: 0.00 seconds.\n",
      "-- Epoch 40\n",
      "Norm: 3.83, NNZs: 1, Bias: 0.677582, T: 640, Avg. loss: 615.839418\n",
      "Total training time: 0.00 seconds.\n",
      "-- Epoch 41\n",
      "Norm: 3.89, NNZs: 1, Bias: 0.687514, T: 656, Avg. loss: 605.386802\n",
      "Total training time: 0.00 seconds.\n",
      "-- Epoch 42\n",
      "Norm: 3.94, NNZs: 1, Bias: 0.697302, T: 672, Avg. loss: 595.179604\n",
      "Total training time: 0.00 seconds.\n",
      "-- Epoch 43\n",
      "Norm: 4.00, NNZs: 1, Bias: 0.706946, T: 688, Avg. loss: 585.205525\n",
      "Total training time: 0.00 seconds.\n",
      "-- Epoch 44\n",
      "Norm: 4.05, NNZs: 1, Bias: 0.716450, T: 704, Avg. loss: 575.458493\n",
      "Total training time: 0.00 seconds.\n",
      "-- Epoch 45\n",
      "Norm: 4.10, NNZs: 1, Bias: 0.725819, T: 720, Avg. loss: 565.937753\n",
      "Total training time: 0.00 seconds.\n",
      "-- Epoch 46\n",
      "Norm: 4.16, NNZs: 1, Bias: 0.735059, T: 736, Avg. loss: 556.633179\n",
      "Total training time: 0.00 seconds.\n",
      "-- Epoch 47\n",
      "Norm: 4.21, NNZs: 1, Bias: 0.744168, T: 752, Avg. loss: 547.533995\n",
      "Total training time: 0.00 seconds.\n",
      "-- Epoch 48\n",
      "Norm: 4.26, NNZs: 1, Bias: 0.753152, T: 768, Avg. loss: 538.632849\n",
      "Total training time: 0.00 seconds.\n",
      "-- Epoch 49\n",
      "Norm: 4.31, NNZs: 1, Bias: 0.762013, T: 784, Avg. loss: 529.930377\n",
      "Total training time: 0.00 seconds.\n",
      "-- Epoch 50\n",
      "Norm: 4.36, NNZs: 1, Bias: 0.770757, T: 800, Avg. loss: 521.417265\n",
      "Total training time: 0.00 seconds.\n",
      "-- Epoch 51\n",
      "Norm: 4.41, NNZs: 1, Bias: 0.779384, T: 816, Avg. loss: 513.084023\n",
      "Total training time: 0.00 seconds.\n",
      "-- Epoch 52\n",
      "Norm: 4.46, NNZs: 1, Bias: 0.787897, T: 832, Avg. loss: 504.927495\n",
      "Total training time: 0.00 seconds.\n",
      "-- Epoch 53\n",
      "Norm: 4.50, NNZs: 1, Bias: 0.796299, T: 848, Avg. loss: 496.946253\n",
      "Total training time: 0.00 seconds.\n",
      "-- Epoch 54\n",
      "Norm: 4.55, NNZs: 1, Bias: 0.804596, T: 864, Avg. loss: 489.133754\n",
      "Total training time: 0.00 seconds.\n",
      "-- Epoch 55\n",
      "Norm: 4.60, NNZs: 1, Bias: 0.812785, T: 880, Avg. loss: 481.481960\n",
      "Total training time: 0.00 seconds.\n",
      "-- Epoch 56\n",
      "Norm: 4.64, NNZs: 1, Bias: 0.820869, T: 896, Avg. loss: 473.988460\n",
      "Total training time: 0.00 seconds.\n",
      "-- Epoch 57\n",
      "Norm: 4.69, NNZs: 1, Bias: 0.828852, T: 912, Avg. loss: 466.649980\n",
      "Total training time: 0.00 seconds.\n",
      "-- Epoch 58\n",
      "Norm: 4.73, NNZs: 1, Bias: 0.836738, T: 928, Avg. loss: 459.461740\n",
      "Total training time: 0.00 seconds.\n",
      "-- Epoch 59\n",
      "Norm: 4.78, NNZs: 1, Bias: 0.844525, T: 944, Avg. loss: 452.416650\n",
      "Total training time: 0.00 seconds.\n",
      "-- Epoch 60\n",
      "Norm: 4.82, NNZs: 1, Bias: 0.852216, T: 960, Avg. loss: 445.511862\n",
      "Total training time: 0.00 seconds.\n",
      "-- Epoch 61\n",
      "Norm: 4.86, NNZs: 1, Bias: 0.859815, T: 976, Avg. loss: 438.747190\n",
      "Total training time: 0.00 seconds.\n",
      "-- Epoch 62\n",
      "Norm: 4.91, NNZs: 1, Bias: 0.867324, T: 992, Avg. loss: 432.117062\n",
      "Total training time: 0.00 seconds.\n",
      "-- Epoch 63\n",
      "Norm: 4.95, NNZs: 1, Bias: 0.874743, T: 1008, Avg. loss: 425.615654\n",
      "Total training time: 0.00 seconds.\n",
      "-- Epoch 64\n",
      "Norm: 4.99, NNZs: 1, Bias: 0.882073, T: 1024, Avg. loss: 419.241080\n",
      "Total training time: 0.00 seconds.\n",
      "-- Epoch 65\n",
      "Norm: 5.03, NNZs: 1, Bias: 0.889318, T: 1040, Avg. loss: 412.993260\n",
      "Total training time: 0.00 seconds.\n",
      "-- Epoch 66\n",
      "Norm: 5.07, NNZs: 1, Bias: 0.896479, T: 1056, Avg. loss: 406.865688\n",
      "Total training time: 0.00 seconds.\n",
      "-- Epoch 67\n",
      "Norm: 5.11, NNZs: 1, Bias: 0.903557, T: 1072, Avg. loss: 400.853820\n",
      "Total training time: 0.00 seconds.\n",
      "-- Epoch 68\n",
      "Norm: 5.15, NNZs: 1, Bias: 0.910553, T: 1088, Avg. loss: 394.956171\n",
      "Total training time: 0.00 seconds.\n",
      "-- Epoch 69\n",
      "Norm: 5.19, NNZs: 1, Bias: 0.917469, T: 1104, Avg. loss: 389.171934\n",
      "Total training time: 0.00 seconds.\n",
      "-- Epoch 70\n",
      "Norm: 5.23, NNZs: 1, Bias: 0.924310, T: 1120, Avg. loss: 383.497301\n",
      "Total training time: 0.00 seconds.\n",
      "-- Epoch 71\n",
      "Norm: 5.27, NNZs: 1, Bias: 0.931072, T: 1136, Avg. loss: 377.927308\n",
      "Total training time: 0.00 seconds.\n",
      "-- Epoch 72\n",
      "Norm: 5.31, NNZs: 1, Bias: 0.937759, T: 1152, Avg. loss: 372.461042\n",
      "Total training time: 0.00 seconds.\n",
      "-- Epoch 73\n",
      "Norm: 5.34, NNZs: 1, Bias: 0.944372, T: 1168, Avg. loss: 367.098186\n",
      "Total training time: 0.00 seconds.\n",
      "-- Epoch 74\n",
      "Norm: 5.38, NNZs: 1, Bias: 0.950913, T: 1184, Avg. loss: 361.834923\n",
      "Total training time: 0.00 seconds.\n",
      "-- Epoch 75\n",
      "Norm: 5.42, NNZs: 1, Bias: 0.957382, T: 1200, Avg. loss: 356.666286\n",
      "Total training time: 0.00 seconds.\n",
      "-- Epoch 76\n",
      "Norm: 5.45, NNZs: 1, Bias: 0.963780, T: 1216, Avg. loss: 351.591629\n",
      "Total training time: 0.00 seconds.\n",
      "-- Epoch 77\n",
      "Norm: 5.49, NNZs: 1, Bias: 0.970109, T: 1232, Avg. loss: 346.610614\n",
      "Total training time: 0.00 seconds.\n",
      "-- Epoch 78\n",
      "Norm: 5.53, NNZs: 1, Bias: 0.976371, T: 1248, Avg. loss: 341.719867\n",
      "Total training time: 0.00 seconds.\n",
      "-- Epoch 79\n",
      "Norm: 5.56, NNZs: 1, Bias: 0.982566, T: 1264, Avg. loss: 336.915616\n",
      "Total training time: 0.00 seconds.\n",
      "-- Epoch 80\n",
      "Norm: 5.60, NNZs: 1, Bias: 0.988694, T: 1280, Avg. loss: 332.197009\n",
      "Total training time: 0.00 seconds.\n",
      "-- Epoch 81\n",
      "Norm: 5.63, NNZs: 1, Bias: 0.994759, T: 1296, Avg. loss: 327.563942\n",
      "Total training time: 0.00 seconds.\n",
      "-- Epoch 82\n",
      "Norm: 5.66, NNZs: 1, Bias: 1.000761, T: 1312, Avg. loss: 323.013592\n",
      "Total training time: 0.00 seconds.\n",
      "-- Epoch 83\n",
      "Norm: 5.70, NNZs: 1, Bias: 1.006700, T: 1328, Avg. loss: 318.542530\n",
      "Total training time: 0.00 seconds.\n",
      "-- Epoch 84\n",
      "Norm: 5.73, NNZs: 1, Bias: 1.012576, T: 1344, Avg. loss: 314.149409\n",
      "Total training time: 0.00 seconds.\n",
      "-- Epoch 85\n",
      "Norm: 5.76, NNZs: 1, Bias: 1.018393, T: 1360, Avg. loss: 309.834310\n",
      "Total training time: 0.00 seconds.\n",
      "-- Epoch 86\n",
      "Norm: 5.80, NNZs: 1, Bias: 1.024151, T: 1376, Avg. loss: 305.594532\n",
      "Total training time: 0.00 seconds.\n",
      "-- Epoch 87\n",
      "Norm: 5.83, NNZs: 1, Bias: 1.029849, T: 1392, Avg. loss: 301.427018\n",
      "Total training time: 0.00 seconds.\n",
      "-- Epoch 88\n",
      "Norm: 5.86, NNZs: 1, Bias: 1.035489, T: 1408, Avg. loss: 297.331213\n",
      "Total training time: 0.00 seconds.\n",
      "-- Epoch 89\n",
      "Norm: 5.89, NNZs: 1, Bias: 1.041072, T: 1424, Avg. loss: 293.306757\n",
      "Total training time: 0.00 seconds.\n",
      "-- Epoch 90\n",
      "Norm: 5.93, NNZs: 1, Bias: 1.046601, T: 1440, Avg. loss: 289.351553\n",
      "Total training time: 0.00 seconds.\n",
      "-- Epoch 91\n",
      "Norm: 5.96, NNZs: 1, Bias: 1.052074, T: 1456, Avg. loss: 285.462832\n",
      "Total training time: 0.00 seconds.\n",
      "-- Epoch 92\n",
      "Norm: 5.99, NNZs: 1, Bias: 1.057492, T: 1472, Avg. loss: 281.640289\n",
      "Total training time: 0.00 seconds.\n",
      "-- Epoch 93\n",
      "Norm: 6.02, NNZs: 1, Bias: 1.062856, T: 1488, Avg. loss: 277.882959\n",
      "Total training time: 0.00 seconds.\n",
      "-- Epoch 94\n",
      "Norm: 6.05, NNZs: 1, Bias: 1.068169, T: 1504, Avg. loss: 274.189046\n",
      "Total training time: 0.00 seconds.\n",
      "-- Epoch 95\n",
      "Norm: 6.08, NNZs: 1, Bias: 1.073429, T: 1520, Avg. loss: 270.556109\n",
      "Total training time: 0.00 seconds.\n",
      "-- Epoch 96\n",
      "Norm: 6.11, NNZs: 1, Bias: 1.078637, T: 1536, Avg. loss: 266.983675\n",
      "Total training time: 0.00 seconds.\n",
      "-- Epoch 97\n",
      "Norm: 6.14, NNZs: 1, Bias: 1.083795, T: 1552, Avg. loss: 263.471607\n",
      "Total training time: 0.00 seconds.\n",
      "-- Epoch 98\n",
      "Norm: 6.17, NNZs: 1, Bias: 1.088904, T: 1568, Avg. loss: 260.017988\n",
      "Total training time: 0.00 seconds.\n",
      "-- Epoch 99\n",
      "Norm: 6.19, NNZs: 1, Bias: 1.093963, T: 1584, Avg. loss: 256.620516\n",
      "Total training time: 0.00 seconds.\n",
      "-- Epoch 100\n",
      "Norm: 6.22, NNZs: 1, Bias: 1.098974, T: 1600, Avg. loss: 253.278959\n",
      "Total training time: 0.00 seconds.\n",
      "-- Epoch 101\n",
      "Norm: 6.25, NNZs: 1, Bias: 1.103937, T: 1616, Avg. loss: 249.993326\n",
      "Total training time: 0.00 seconds.\n",
      "-- Epoch 102\n",
      "Norm: 6.28, NNZs: 1, Bias: 1.108853, T: 1632, Avg. loss: 246.761305\n",
      "Total training time: 0.00 seconds.\n",
      "-- Epoch 103\n",
      "Norm: 6.31, NNZs: 1, Bias: 1.113723, T: 1648, Avg. loss: 243.580848\n",
      "Total training time: 0.00 seconds.\n",
      "-- Epoch 104\n",
      "Norm: 6.33, NNZs: 1, Bias: 1.118547, T: 1664, Avg. loss: 240.451917\n",
      "Total training time: 0.00 seconds.\n",
      "-- Epoch 105\n",
      "Norm: 6.36, NNZs: 1, Bias: 1.123325, T: 1680, Avg. loss: 237.374320\n",
      "Total training time: 0.00 seconds.\n",
      "-- Epoch 106\n",
      "Norm: 6.39, NNZs: 1, Bias: 1.128060, T: 1696, Avg. loss: 234.346451\n",
      "Total training time: 0.00 seconds.\n",
      "-- Epoch 107\n",
      "Norm: 6.42, NNZs: 1, Bias: 1.132750, T: 1712, Avg. loss: 231.366305\n",
      "Total training time: 0.00 seconds.\n",
      "-- Epoch 108\n",
      "Norm: 6.44, NNZs: 1, Bias: 1.137397, T: 1728, Avg. loss: 228.433903\n",
      "Total training time: 0.00 seconds.\n",
      "-- Epoch 109\n",
      "Norm: 6.47, NNZs: 1, Bias: 1.142001, T: 1744, Avg. loss: 225.549145\n",
      "Total training time: 0.01 seconds.\n",
      "-- Epoch 110\n",
      "Norm: 6.49, NNZs: 1, Bias: 1.146564, T: 1760, Avg. loss: 222.710438\n",
      "Total training time: 0.01 seconds.\n",
      "-- Epoch 111\n",
      "Norm: 6.52, NNZs: 1, Bias: 1.151084, T: 1776, Avg. loss: 219.915796\n",
      "Total training time: 0.01 seconds.\n",
      "-- Epoch 112\n",
      "Norm: 6.55, NNZs: 1, Bias: 1.155562, T: 1792, Avg. loss: 217.165194\n",
      "Total training time: 0.01 seconds.\n",
      "-- Epoch 113\n",
      "Norm: 6.57, NNZs: 1, Bias: 1.160000, T: 1808, Avg. loss: 214.458547\n",
      "Total training time: 0.01 seconds.\n",
      "-- Epoch 114\n",
      "Norm: 6.60, NNZs: 1, Bias: 1.164399, T: 1824, Avg. loss: 211.794544\n",
      "Total training time: 0.01 seconds.\n",
      "-- Epoch 115\n",
      "Norm: 6.62, NNZs: 1, Bias: 1.168758, T: 1840, Avg. loss: 209.171385\n",
      "Total training time: 0.01 seconds.\n",
      "-- Epoch 116\n",
      "Norm: 6.65, NNZs: 1, Bias: 1.173077, T: 1856, Avg. loss: 206.589109\n",
      "Total training time: 0.01 seconds.\n",
      "-- Epoch 117\n",
      "Norm: 6.67, NNZs: 1, Bias: 1.177358, T: 1872, Avg. loss: 204.047676\n",
      "Total training time: 0.01 seconds.\n",
      "-- Epoch 118\n",
      "Norm: 6.69, NNZs: 1, Bias: 1.181602, T: 1888, Avg. loss: 201.545887\n",
      "Total training time: 0.01 seconds.\n",
      "-- Epoch 119\n",
      "Norm: 6.72, NNZs: 1, Bias: 1.185807, T: 1904, Avg. loss: 199.082120\n",
      "Total training time: 0.01 seconds.\n",
      "-- Epoch 120\n",
      "Norm: 6.74, NNZs: 1, Bias: 1.189975, T: 1920, Avg. loss: 196.656218\n",
      "Total training time: 0.01 seconds.\n",
      "-- Epoch 121\n",
      "Norm: 6.77, NNZs: 1, Bias: 1.194106, T: 1936, Avg. loss: 194.268124\n",
      "Total training time: 0.01 seconds.\n",
      "-- Epoch 122\n",
      "Norm: 6.79, NNZs: 1, Bias: 1.198202, T: 1952, Avg. loss: 191.916704\n",
      "Total training time: 0.01 seconds.\n",
      "-- Epoch 123\n",
      "Norm: 6.81, NNZs: 1, Bias: 1.202261, T: 1968, Avg. loss: 189.600569\n",
      "Total training time: 0.01 seconds.\n",
      "-- Epoch 124\n",
      "Norm: 6.83, NNZs: 1, Bias: 1.206284, T: 1984, Avg. loss: 187.319682\n",
      "Total training time: 0.01 seconds.\n",
      "-- Epoch 125\n",
      "Norm: 6.86, NNZs: 1, Bias: 1.210273, T: 2000, Avg. loss: 185.073919\n",
      "Total training time: 0.01 seconds.\n",
      "-- Epoch 126\n",
      "Norm: 6.88, NNZs: 1, Bias: 1.214228, T: 2016, Avg. loss: 182.862329\n",
      "Total training time: 0.01 seconds.\n",
      "-- Epoch 127\n",
      "Norm: 6.90, NNZs: 1, Bias: 1.218149, T: 2032, Avg. loss: 180.683596\n",
      "Total training time: 0.01 seconds.\n",
      "-- Epoch 128\n",
      "Norm: 6.92, NNZs: 1, Bias: 1.222035, T: 2048, Avg. loss: 178.537830\n",
      "Total training time: 0.01 seconds.\n",
      "-- Epoch 129\n",
      "Norm: 6.95, NNZs: 1, Bias: 1.225888, T: 2064, Avg. loss: 176.424658\n",
      "Total training time: 0.01 seconds.\n",
      "-- Epoch 130\n",
      "Norm: 6.97, NNZs: 1, Bias: 1.229709, T: 2080, Avg. loss: 174.343157\n",
      "Total training time: 0.01 seconds.\n",
      "-- Epoch 131\n",
      "Norm: 6.99, NNZs: 1, Bias: 1.233497, T: 2096, Avg. loss: 172.292198\n",
      "Total training time: 0.01 seconds.\n",
      "-- Epoch 132\n",
      "Norm: 7.01, NNZs: 1, Bias: 1.237252, T: 2112, Avg. loss: 170.271842\n",
      "Total training time: 0.01 seconds.\n",
      "-- Epoch 133\n",
      "Norm: 7.03, NNZs: 1, Bias: 1.240976, T: 2128, Avg. loss: 168.281978\n",
      "Total training time: 0.01 seconds.\n",
      "-- Epoch 134\n",
      "Norm: 7.05, NNZs: 1, Bias: 1.244668, T: 2144, Avg. loss: 166.321731\n",
      "Total training time: 0.01 seconds.\n",
      "-- Epoch 135\n",
      "Norm: 7.07, NNZs: 1, Bias: 1.248330, T: 2160, Avg. loss: 164.389916\n",
      "Total training time: 0.01 seconds.\n",
      "-- Epoch 136\n",
      "Norm: 7.10, NNZs: 1, Bias: 1.251960, T: 2176, Avg. loss: 162.486665\n",
      "Total training time: 0.01 seconds.\n",
      "-- Epoch 137\n",
      "Norm: 7.12, NNZs: 1, Bias: 1.255560, T: 2192, Avg. loss: 160.611993\n",
      "Total training time: 0.01 seconds.\n",
      "-- Epoch 138\n",
      "Norm: 7.14, NNZs: 1, Bias: 1.259130, T: 2208, Avg. loss: 158.764844\n",
      "Total training time: 0.01 seconds.\n",
      "-- Epoch 139\n",
      "Norm: 7.16, NNZs: 1, Bias: 1.262671, T: 2224, Avg. loss: 156.944060\n",
      "Total training time: 0.01 seconds.\n",
      "-- Epoch 140\n",
      "Norm: 7.18, NNZs: 1, Bias: 1.266182, T: 2240, Avg. loss: 155.149904\n",
      "Total training time: 0.01 seconds.\n",
      "-- Epoch 141\n",
      "Norm: 7.20, NNZs: 1, Bias: 1.269663, T: 2256, Avg. loss: 153.382341\n",
      "Total training time: 0.01 seconds.\n",
      "-- Epoch 142\n",
      "Norm: 7.22, NNZs: 1, Bias: 1.273117, T: 2272, Avg. loss: 151.640512\n",
      "Total training time: 0.01 seconds.\n",
      "-- Epoch 143\n",
      "Norm: 7.24, NNZs: 1, Bias: 1.276543, T: 2288, Avg. loss: 149.923396\n",
      "Total training time: 0.01 seconds.\n",
      "-- Epoch 144\n",
      "Norm: 7.25, NNZs: 1, Bias: 1.279939, T: 2304, Avg. loss: 148.231213\n",
      "Total training time: 0.01 seconds.\n",
      "-- Epoch 145\n",
      "Norm: 7.27, NNZs: 1, Bias: 1.283308, T: 2320, Avg. loss: 146.563925\n",
      "Total training time: 0.01 seconds.\n",
      "-- Epoch 146\n",
      "Norm: 7.29, NNZs: 1, Bias: 1.286650, T: 2336, Avg. loss: 144.920702\n",
      "Total training time: 0.01 seconds.\n",
      "-- Epoch 147\n",
      "Norm: 7.31, NNZs: 1, Bias: 1.289965, T: 2352, Avg. loss: 143.300560\n",
      "Total training time: 0.01 seconds.\n",
      "-- Epoch 148\n",
      "Norm: 7.33, NNZs: 1, Bias: 1.293252, T: 2368, Avg. loss: 141.703624\n",
      "Total training time: 0.01 seconds.\n",
      "-- Epoch 149\n",
      "Norm: 7.35, NNZs: 1, Bias: 1.296513, T: 2384, Avg. loss: 140.129879\n",
      "Total training time: 0.01 seconds.\n",
      "-- Epoch 150\n",
      "Norm: 7.37, NNZs: 1, Bias: 1.299748, T: 2400, Avg. loss: 138.578704\n",
      "Total training time: 0.01 seconds.\n",
      "-- Epoch 151\n",
      "Norm: 7.39, NNZs: 1, Bias: 1.302957, T: 2416, Avg. loss: 137.049060\n",
      "Total training time: 0.01 seconds.\n",
      "-- Epoch 152\n",
      "Norm: 7.40, NNZs: 1, Bias: 1.306139, T: 2432, Avg. loss: 135.541191\n",
      "Total training time: 0.01 seconds.\n",
      "-- Epoch 153\n",
      "Norm: 7.42, NNZs: 1, Bias: 1.309296, T: 2448, Avg. loss: 134.055077\n",
      "Total training time: 0.01 seconds.\n",
      "-- Epoch 154\n",
      "Norm: 7.44, NNZs: 1, Bias: 1.312429, T: 2464, Avg. loss: 132.590102\n",
      "Total training time: 0.01 seconds.\n",
      "-- Epoch 155\n",
      "Norm: 7.46, NNZs: 1, Bias: 1.315537, T: 2480, Avg. loss: 131.145339\n",
      "Total training time: 0.01 seconds.\n",
      "-- Epoch 156\n",
      "Norm: 7.48, NNZs: 1, Bias: 1.318618, T: 2496, Avg. loss: 129.720953\n",
      "Total training time: 0.01 seconds.\n",
      "-- Epoch 157\n",
      "Norm: 7.49, NNZs: 1, Bias: 1.321677, T: 2512, Avg. loss: 128.316863\n",
      "Total training time: 0.01 seconds.\n",
      "-- Epoch 158\n",
      "Norm: 7.51, NNZs: 1, Bias: 1.324711, T: 2528, Avg. loss: 126.932497\n",
      "Total training time: 0.01 seconds.\n",
      "-- Epoch 159\n",
      "Norm: 7.53, NNZs: 1, Bias: 1.327721, T: 2544, Avg. loss: 125.567108\n",
      "Total training time: 0.01 seconds.\n",
      "-- Epoch 160\n",
      "Norm: 7.55, NNZs: 1, Bias: 1.330707, T: 2560, Avg. loss: 124.220796\n",
      "Total training time: 0.01 seconds.\n",
      "-- Epoch 161\n",
      "Norm: 7.56, NNZs: 1, Bias: 1.333669, T: 2576, Avg. loss: 122.893517\n",
      "Total training time: 0.01 seconds.\n",
      "-- Epoch 162\n",
      "Norm: 7.58, NNZs: 1, Bias: 1.336610, T: 2592, Avg. loss: 121.584761\n",
      "Total training time: 0.01 seconds.\n",
      "-- Epoch 163\n",
      "Norm: 7.60, NNZs: 1, Bias: 1.339527, T: 2608, Avg. loss: 120.293788\n",
      "Total training time: 0.01 seconds.\n",
      "-- Epoch 164\n",
      "Norm: 7.61, NNZs: 1, Bias: 1.342421, T: 2624, Avg. loss: 119.020802\n",
      "Total training time: 0.01 seconds.\n",
      "-- Epoch 165\n",
      "Norm: 7.63, NNZs: 1, Bias: 1.345292, T: 2640, Avg. loss: 117.765642\n",
      "Total training time: 0.01 seconds.\n",
      "-- Epoch 166\n",
      "Norm: 7.64, NNZs: 1, Bias: 1.348142, T: 2656, Avg. loss: 116.527760\n",
      "Total training time: 0.01 seconds.\n",
      "-- Epoch 167\n",
      "Norm: 7.66, NNZs: 1, Bias: 1.350969, T: 2672, Avg. loss: 115.306540\n",
      "Total training time: 0.01 seconds.\n",
      "-- Epoch 168\n",
      "Norm: 7.68, NNZs: 1, Bias: 1.353774, T: 2688, Avg. loss: 114.102181\n",
      "Total training time: 0.01 seconds.\n",
      "-- Epoch 169\n",
      "Norm: 7.69, NNZs: 1, Bias: 1.356558, T: 2704, Avg. loss: 112.914598\n",
      "Total training time: 0.01 seconds.\n",
      "-- Epoch 170\n",
      "Norm: 7.71, NNZs: 1, Bias: 1.359321, T: 2720, Avg. loss: 111.743328\n",
      "Total training time: 0.01 seconds.\n",
      "-- Epoch 171\n",
      "Norm: 7.72, NNZs: 1, Bias: 1.362062, T: 2736, Avg. loss: 110.587666\n",
      "Total training time: 0.01 seconds.\n",
      "-- Epoch 172\n",
      "Norm: 7.74, NNZs: 1, Bias: 1.364782, T: 2752, Avg. loss: 109.447827\n",
      "Total training time: 0.01 seconds.\n",
      "-- Epoch 173\n",
      "Norm: 7.76, NNZs: 1, Bias: 1.367482, T: 2768, Avg. loss: 108.323827\n",
      "Total training time: 0.01 seconds.\n",
      "-- Epoch 174\n",
      "Norm: 7.77, NNZs: 1, Bias: 1.370161, T: 2784, Avg. loss: 107.215111\n",
      "Total training time: 0.01 seconds.\n",
      "-- Epoch 175\n",
      "Norm: 7.79, NNZs: 1, Bias: 1.372820, T: 2800, Avg. loss: 106.120941\n",
      "Total training time: 0.01 seconds.\n",
      "-- Epoch 176\n",
      "Norm: 7.80, NNZs: 1, Bias: 1.375458, T: 2816, Avg. loss: 105.041630\n",
      "Total training time: 0.01 seconds.\n",
      "-- Epoch 177\n",
      "Norm: 7.82, NNZs: 1, Bias: 1.378076, T: 2832, Avg. loss: 103.977191\n",
      "Total training time: 0.01 seconds.\n",
      "-- Epoch 178\n",
      "Norm: 7.83, NNZs: 1, Bias: 1.380675, T: 2848, Avg. loss: 102.927103\n",
      "Total training time: 0.01 seconds.\n",
      "-- Epoch 179\n",
      "Norm: 7.85, NNZs: 1, Bias: 1.383254, T: 2864, Avg. loss: 101.890772\n",
      "Total training time: 0.01 seconds.\n",
      "-- Epoch 180\n",
      "Norm: 7.86, NNZs: 1, Bias: 1.385814, T: 2880, Avg. loss: 100.868445\n",
      "Total training time: 0.01 seconds.\n",
      "-- Epoch 181\n",
      "Norm: 7.88, NNZs: 1, Bias: 1.388354, T: 2896, Avg. loss: 99.860111\n",
      "Total training time: 0.01 seconds.\n",
      "-- Epoch 182\n",
      "Norm: 7.89, NNZs: 1, Bias: 1.390876, T: 2912, Avg. loss: 98.865277\n",
      "Total training time: 0.01 seconds.\n",
      "-- Epoch 183\n",
      "Norm: 7.90, NNZs: 1, Bias: 1.393379, T: 2928, Avg. loss: 97.883393\n",
      "Total training time: 0.01 seconds.\n",
      "-- Epoch 184\n",
      "Norm: 7.92, NNZs: 1, Bias: 1.395863, T: 2944, Avg. loss: 96.914609\n",
      "Total training time: 0.01 seconds.\n",
      "-- Epoch 185\n",
      "Norm: 7.93, NNZs: 1, Bias: 1.398328, T: 2960, Avg. loss: 95.958937\n",
      "Total training time: 0.01 seconds.\n",
      "-- Epoch 186\n",
      "Norm: 7.95, NNZs: 1, Bias: 1.400775, T: 2976, Avg. loss: 95.016048\n",
      "Total training time: 0.01 seconds.\n",
      "-- Epoch 187\n",
      "Norm: 7.96, NNZs: 1, Bias: 1.403205, T: 2992, Avg. loss: 94.085271\n",
      "Total training time: 0.01 seconds.\n",
      "-- Epoch 188\n",
      "Norm: 7.97, NNZs: 1, Bias: 1.405615, T: 3008, Avg. loss: 93.166884\n",
      "Total training time: 0.01 seconds.\n",
      "-- Epoch 189\n",
      "Norm: 7.99, NNZs: 1, Bias: 1.408008, T: 3024, Avg. loss: 92.260874\n",
      "Total training time: 0.01 seconds.\n",
      "-- Epoch 190\n",
      "Norm: 8.00, NNZs: 1, Bias: 1.410384, T: 3040, Avg. loss: 91.366887\n",
      "Total training time: 0.01 seconds.\n",
      "-- Epoch 191\n",
      "Norm: 8.02, NNZs: 1, Bias: 1.412743, T: 3056, Avg. loss: 90.484333\n",
      "Total training time: 0.01 seconds.\n",
      "-- Epoch 192\n",
      "Norm: 8.03, NNZs: 1, Bias: 1.415083, T: 3072, Avg. loss: 89.613456\n",
      "Total training time: 0.01 seconds.\n",
      "-- Epoch 193\n",
      "Norm: 8.04, NNZs: 1, Bias: 1.417407, T: 3088, Avg. loss: 88.754182\n",
      "Total training time: 0.01 seconds.\n",
      "-- Epoch 194\n",
      "Norm: 8.06, NNZs: 1, Bias: 1.419714, T: 3104, Avg. loss: 87.906185\n",
      "Total training time: 0.01 seconds.\n",
      "-- Epoch 195\n",
      "Norm: 8.07, NNZs: 1, Bias: 1.422004, T: 3120, Avg. loss: 87.069020\n",
      "Total training time: 0.01 seconds.\n",
      "-- Epoch 196\n",
      "Norm: 8.08, NNZs: 1, Bias: 1.424277, T: 3136, Avg. loss: 86.242817\n",
      "Total training time: 0.01 seconds.\n",
      "-- Epoch 197\n",
      "Norm: 8.09, NNZs: 1, Bias: 1.426533, T: 3152, Avg. loss: 85.427567\n",
      "Total training time: 0.01 seconds.\n",
      "-- Epoch 198\n",
      "Norm: 8.11, NNZs: 1, Bias: 1.428774, T: 3168, Avg. loss: 84.622964\n",
      "Total training time: 0.01 seconds.\n",
      "-- Epoch 199\n",
      "Norm: 8.12, NNZs: 1, Bias: 1.430998, T: 3184, Avg. loss: 83.828549\n",
      "Total training time: 0.01 seconds.\n",
      "-- Epoch 200\n",
      "Norm: 8.13, NNZs: 1, Bias: 1.433206, T: 3200, Avg. loss: 83.044527\n",
      "Total training time: 0.01 seconds.\n",
      "-- Epoch 201\n",
      "Norm: 8.15, NNZs: 1, Bias: 1.435397, T: 3216, Avg. loss: 82.270831\n",
      "Total training time: 0.01 seconds.\n",
      "-- Epoch 202\n",
      "Norm: 8.16, NNZs: 1, Bias: 1.437574, T: 3232, Avg. loss: 81.507103\n",
      "Total training time: 0.01 seconds.\n",
      "-- Epoch 203\n",
      "Norm: 8.17, NNZs: 1, Bias: 1.439735, T: 3248, Avg. loss: 80.752971\n",
      "Total training time: 0.01 seconds.\n",
      "-- Epoch 204\n",
      "Norm: 8.18, NNZs: 1, Bias: 1.441880, T: 3264, Avg. loss: 80.008656\n",
      "Total training time: 0.01 seconds.\n",
      "-- Epoch 205\n",
      "Norm: 8.19, NNZs: 1, Bias: 1.444009, T: 3280, Avg. loss: 79.274093\n",
      "Total training time: 0.01 seconds.\n",
      "-- Epoch 206\n",
      "Norm: 8.21, NNZs: 1, Bias: 1.446124, T: 3296, Avg. loss: 78.549012\n",
      "Total training time: 0.01 seconds.\n",
      "-- Epoch 207\n",
      "Norm: 8.22, NNZs: 1, Bias: 1.448223, T: 3312, Avg. loss: 77.832954\n",
      "Total training time: 0.01 seconds.\n",
      "-- Epoch 208\n",
      "Norm: 8.23, NNZs: 1, Bias: 1.450307, T: 3328, Avg. loss: 77.126138\n",
      "Total training time: 0.01 seconds.\n",
      "-- Epoch 209\n",
      "Norm: 8.24, NNZs: 1, Bias: 1.452377, T: 3344, Avg. loss: 76.428577\n",
      "Total training time: 0.01 seconds.\n",
      "-- Epoch 210\n",
      "Norm: 8.25, NNZs: 1, Bias: 1.454432, T: 3360, Avg. loss: 75.739953\n",
      "Total training time: 0.01 seconds.\n",
      "-- Epoch 211\n",
      "Norm: 8.27, NNZs: 1, Bias: 1.456472, T: 3376, Avg. loss: 75.059760\n",
      "Total training time: 0.01 seconds.\n",
      "-- Epoch 212\n",
      "Norm: 8.28, NNZs: 1, Bias: 1.458498, T: 3392, Avg. loss: 74.388290\n",
      "Total training time: 0.01 seconds.\n",
      "-- Epoch 213\n",
      "Norm: 8.29, NNZs: 1, Bias: 1.460509, T: 3408, Avg. loss: 73.725570\n",
      "Total training time: 0.01 seconds.\n",
      "-- Epoch 214\n",
      "Norm: 8.30, NNZs: 1, Bias: 1.462507, T: 3424, Avg. loss: 73.071260\n",
      "Total training time: 0.01 seconds.\n",
      "-- Epoch 215\n",
      "Norm: 8.31, NNZs: 1, Bias: 1.464490, T: 3440, Avg. loss: 72.424982\n",
      "Total training time: 0.01 seconds.\n",
      "-- Epoch 216\n",
      "Norm: 8.32, NNZs: 1, Bias: 1.466459, T: 3456, Avg. loss: 71.786962\n",
      "Total training time: 0.01 seconds.\n",
      "-- Epoch 217\n",
      "Norm: 8.34, NNZs: 1, Bias: 1.468414, T: 3472, Avg. loss: 71.157201\n",
      "Total training time: 0.01 seconds.\n",
      "-- Epoch 218\n",
      "Norm: 8.35, NNZs: 1, Bias: 1.470356, T: 3488, Avg. loss: 70.535384\n",
      "Total training time: 0.01 seconds.\n",
      "-- Epoch 219\n",
      "Norm: 8.36, NNZs: 1, Bias: 1.472284, T: 3504, Avg. loss: 69.921172\n",
      "Total training time: 0.01 seconds.\n",
      "-- Epoch 220\n",
      "Norm: 8.37, NNZs: 1, Bias: 1.474199, T: 3520, Avg. loss: 69.314709\n",
      "Total training time: 0.01 seconds.\n",
      "-- Epoch 221\n",
      "Norm: 8.38, NNZs: 1, Bias: 1.476100, T: 3536, Avg. loss: 68.716016\n",
      "Total training time: 0.01 seconds.\n",
      "-- Epoch 222\n",
      "Norm: 8.39, NNZs: 1, Bias: 1.477988, T: 3552, Avg. loss: 68.124903\n",
      "Total training time: 0.01 seconds.\n",
      "-- Epoch 223\n",
      "Norm: 8.40, NNZs: 1, Bias: 1.479863, T: 3568, Avg. loss: 67.540909\n",
      "Total training time: 0.01 seconds.\n",
      "-- Epoch 224\n",
      "Norm: 8.41, NNZs: 1, Bias: 1.481725, T: 3584, Avg. loss: 66.964290\n",
      "Total training time: 0.01 seconds.\n",
      "-- Epoch 225\n",
      "Norm: 8.42, NNZs: 1, Bias: 1.483573, T: 3600, Avg. loss: 66.395040\n",
      "Total training time: 0.01 seconds.\n",
      "-- Epoch 226\n",
      "Norm: 8.43, NNZs: 1, Bias: 1.485410, T: 3616, Avg. loss: 65.832939\n",
      "Total training time: 0.01 seconds.\n",
      "-- Epoch 227\n",
      "Norm: 8.44, NNZs: 1, Bias: 1.487234, T: 3632, Avg. loss: 65.277581\n",
      "Total training time: 0.01 seconds.\n",
      "-- Epoch 228\n",
      "Norm: 8.45, NNZs: 1, Bias: 1.489044, T: 3648, Avg. loss: 64.729214\n",
      "Total training time: 0.01 seconds.\n",
      "-- Epoch 229\n",
      "Norm: 8.46, NNZs: 1, Bias: 1.490842, T: 3664, Avg. loss: 64.187775\n",
      "Total training time: 0.01 seconds.\n",
      "-- Epoch 230\n",
      "Norm: 8.47, NNZs: 1, Bias: 1.492628, T: 3680, Avg. loss: 63.653064\n",
      "Total training time: 0.01 seconds.\n",
      "-- Epoch 231\n",
      "Norm: 8.48, NNZs: 1, Bias: 1.494402, T: 3696, Avg. loss: 63.124794\n",
      "Total training time: 0.01 seconds.\n",
      "-- Epoch 232\n",
      "Norm: 8.49, NNZs: 1, Bias: 1.496163, T: 3712, Avg. loss: 62.603092\n",
      "Total training time: 0.01 seconds.\n",
      "-- Epoch 233\n",
      "Norm: 8.50, NNZs: 1, Bias: 1.497912, T: 3728, Avg. loss: 62.087964\n",
      "Total training time: 0.01 seconds.\n",
      "-- Epoch 234\n",
      "Norm: 8.52, NNZs: 1, Bias: 1.499650, T: 3744, Avg. loss: 61.579214\n",
      "Total training time: 0.01 seconds.\n",
      "-- Epoch 235\n",
      "Norm: 8.52, NNZs: 1, Bias: 1.501376, T: 3760, Avg. loss: 61.076534\n",
      "Total training time: 0.01 seconds.\n",
      "-- Epoch 236\n",
      "Norm: 8.53, NNZs: 1, Bias: 1.503090, T: 3776, Avg. loss: 60.580108\n",
      "Total training time: 0.01 seconds.\n",
      "-- Epoch 237\n",
      "Norm: 8.54, NNZs: 1, Bias: 1.504792, T: 3792, Avg. loss: 60.089912\n",
      "Total training time: 0.01 seconds.\n",
      "-- Epoch 238\n",
      "Norm: 8.55, NNZs: 1, Bias: 1.506483, T: 3808, Avg. loss: 59.605698\n",
      "Total training time: 0.01 seconds.\n",
      "-- Epoch 239\n",
      "Norm: 8.56, NNZs: 1, Bias: 1.508162, T: 3824, Avg. loss: 59.127224\n",
      "Total training time: 0.01 seconds.\n",
      "-- Epoch 240\n",
      "Norm: 8.57, NNZs: 1, Bias: 1.509829, T: 3840, Avg. loss: 58.654695\n",
      "Total training time: 0.01 seconds.\n",
      "-- Epoch 241\n",
      "Norm: 8.58, NNZs: 1, Bias: 1.511485, T: 3856, Avg. loss: 58.188062\n",
      "Total training time: 0.01 seconds.\n",
      "-- Epoch 242\n",
      "Norm: 8.59, NNZs: 1, Bias: 1.513131, T: 3872, Avg. loss: 57.727158\n",
      "Total training time: 0.01 seconds.\n",
      "-- Epoch 243\n",
      "Norm: 8.60, NNZs: 1, Bias: 1.514765, T: 3888, Avg. loss: 57.271663\n",
      "Total training time: 0.01 seconds.\n",
      "-- Epoch 244\n",
      "Norm: 8.61, NNZs: 1, Bias: 1.516388, T: 3904, Avg. loss: 56.821774\n",
      "Total training time: 0.01 seconds.\n",
      "-- Epoch 245\n",
      "Norm: 8.62, NNZs: 1, Bias: 1.518000, T: 3920, Avg. loss: 56.377505\n",
      "Total training time: 0.01 seconds.\n",
      "-- Epoch 246\n",
      "Norm: 8.63, NNZs: 1, Bias: 1.519601, T: 3936, Avg. loss: 55.938660\n",
      "Total training time: 0.01 seconds.\n",
      "-- Epoch 247\n",
      "Norm: 8.64, NNZs: 1, Bias: 1.521192, T: 3952, Avg. loss: 55.504872\n",
      "Total training time: 0.01 seconds.\n",
      "-- Epoch 248\n",
      "Norm: 8.65, NNZs: 1, Bias: 1.522772, T: 3968, Avg. loss: 55.076399\n",
      "Total training time: 0.01 seconds.\n",
      "-- Epoch 249\n",
      "Norm: 8.66, NNZs: 1, Bias: 1.524340, T: 3984, Avg. loss: 54.653267\n",
      "Total training time: 0.01 seconds.\n",
      "-- Epoch 250\n",
      "Norm: 8.67, NNZs: 1, Bias: 1.525900, T: 4000, Avg. loss: 54.235245\n",
      "Total training time: 0.01 seconds.\n",
      "-- Epoch 251\n",
      "Norm: 8.68, NNZs: 1, Bias: 1.527448, T: 4016, Avg. loss: 53.822073\n",
      "Total training time: 0.01 seconds.\n",
      "-- Epoch 252\n",
      "Norm: 8.68, NNZs: 1, Bias: 1.528986, T: 4032, Avg. loss: 53.413949\n",
      "Total training time: 0.01 seconds.\n",
      "-- Epoch 253\n",
      "Norm: 8.69, NNZs: 1, Bias: 1.530513, T: 4048, Avg. loss: 53.010877\n",
      "Total training time: 0.01 seconds.\n",
      "-- Epoch 254\n",
      "Norm: 8.70, NNZs: 1, Bias: 1.532031, T: 4064, Avg. loss: 52.612644\n",
      "Total training time: 0.01 seconds.\n",
      "-- Epoch 255\n",
      "Norm: 8.71, NNZs: 1, Bias: 1.533539, T: 4080, Avg. loss: 52.219028\n",
      "Total training time: 0.01 seconds.\n",
      "-- Epoch 256\n",
      "Norm: 8.72, NNZs: 1, Bias: 1.535036, T: 4096, Avg. loss: 51.830156\n",
      "Total training time: 0.01 seconds.\n",
      "-- Epoch 257\n",
      "Norm: 8.73, NNZs: 1, Bias: 1.536524, T: 4112, Avg. loss: 51.446049\n",
      "Total training time: 0.01 seconds.\n",
      "-- Epoch 258\n",
      "Norm: 8.74, NNZs: 1, Bias: 1.538001, T: 4128, Avg. loss: 51.066595\n",
      "Total training time: 0.01 seconds.\n",
      "-- Epoch 259\n",
      "Norm: 8.75, NNZs: 1, Bias: 1.539470, T: 4144, Avg. loss: 50.691456\n",
      "Total training time: 0.01 seconds.\n",
      "-- Epoch 260\n",
      "Norm: 8.75, NNZs: 1, Bias: 1.540928, T: 4160, Avg. loss: 50.320860\n",
      "Total training time: 0.01 seconds.\n",
      "-- Epoch 261\n",
      "Norm: 8.76, NNZs: 1, Bias: 1.542376, T: 4176, Avg. loss: 49.954799\n",
      "Total training time: 0.01 seconds.\n",
      "-- Epoch 262\n",
      "Norm: 8.77, NNZs: 1, Bias: 1.543815, T: 4192, Avg. loss: 49.593133\n",
      "Total training time: 0.01 seconds.\n",
      "-- Epoch 263\n",
      "Norm: 8.78, NNZs: 1, Bias: 1.545245, T: 4208, Avg. loss: 49.235566\n",
      "Total training time: 0.01 seconds.\n",
      "-- Epoch 264\n",
      "Norm: 8.79, NNZs: 1, Bias: 1.546665, T: 4224, Avg. loss: 48.882325\n",
      "Total training time: 0.01 seconds.\n",
      "-- Epoch 265\n",
      "Norm: 8.79, NNZs: 1, Bias: 1.548076, T: 4240, Avg. loss: 48.533356\n",
      "Total training time: 0.01 seconds.\n",
      "-- Epoch 266\n",
      "Norm: 8.80, NNZs: 1, Bias: 1.549478, T: 4256, Avg. loss: 48.188531\n",
      "Total training time: 0.01 seconds.\n",
      "-- Epoch 267\n",
      "Norm: 8.81, NNZs: 1, Bias: 1.550870, T: 4272, Avg. loss: 47.847653\n",
      "Total training time: 0.01 seconds.\n",
      "-- Epoch 268\n",
      "Norm: 8.82, NNZs: 1, Bias: 1.552253, T: 4288, Avg. loss: 47.510836\n",
      "Total training time: 0.01 seconds.\n",
      "-- Epoch 269\n",
      "Norm: 8.83, NNZs: 1, Bias: 1.553627, T: 4304, Avg. loss: 47.178092\n",
      "Total training time: 0.01 seconds.\n",
      "-- Epoch 270\n",
      "Norm: 8.84, NNZs: 1, Bias: 1.554993, T: 4320, Avg. loss: 46.849288\n",
      "Total training time: 0.01 seconds.\n",
      "-- Epoch 271\n",
      "Norm: 8.84, NNZs: 1, Bias: 1.556350, T: 4336, Avg. loss: 46.524208\n",
      "Total training time: 0.01 seconds.\n",
      "-- Epoch 272\n",
      "Norm: 8.85, NNZs: 1, Bias: 1.557697, T: 4352, Avg. loss: 46.203009\n",
      "Total training time: 0.01 seconds.\n",
      "-- Epoch 273\n",
      "Norm: 8.86, NNZs: 1, Bias: 1.559036, T: 4368, Avg. loss: 45.885685\n",
      "Total training time: 0.01 seconds.\n",
      "-- Epoch 274\n",
      "Norm: 8.87, NNZs: 1, Bias: 1.560366, T: 4384, Avg. loss: 45.572060\n",
      "Total training time: 0.01 seconds.\n",
      "-- Epoch 275\n",
      "Norm: 8.87, NNZs: 1, Bias: 1.561688, T: 4400, Avg. loss: 45.261967\n",
      "Total training time: 0.01 seconds.\n",
      "-- Epoch 276\n",
      "Norm: 8.88, NNZs: 1, Bias: 1.563001, T: 4416, Avg. loss: 44.955584\n",
      "Total training time: 0.01 seconds.\n",
      "-- Epoch 277\n",
      "Norm: 8.89, NNZs: 1, Bias: 1.564305, T: 4432, Avg. loss: 44.652873\n",
      "Total training time: 0.01 seconds.\n",
      "-- Epoch 278\n",
      "Norm: 8.90, NNZs: 1, Bias: 1.565601, T: 4448, Avg. loss: 44.353727\n",
      "Total training time: 0.01 seconds.\n",
      "-- Epoch 279\n",
      "Norm: 8.90, NNZs: 1, Bias: 1.566889, T: 4464, Avg. loss: 44.057913\n",
      "Total training time: 0.01 seconds.\n",
      "-- Epoch 280\n",
      "Norm: 8.91, NNZs: 1, Bias: 1.568168, T: 4480, Avg. loss: 43.765600\n",
      "Total training time: 0.01 seconds.\n",
      "-- Epoch 281\n",
      "Norm: 8.92, NNZs: 1, Bias: 1.569439, T: 4496, Avg. loss: 43.476800\n",
      "Total training time: 0.01 seconds.\n",
      "-- Epoch 282\n",
      "Norm: 8.93, NNZs: 1, Bias: 1.570702, T: 4512, Avg. loss: 43.191388\n",
      "Total training time: 0.01 seconds.\n",
      "-- Epoch 283\n",
      "Norm: 8.93, NNZs: 1, Bias: 1.571957, T: 4528, Avg. loss: 42.909088\n",
      "Total training time: 0.01 seconds.\n",
      "-- Epoch 284\n",
      "Norm: 8.94, NNZs: 1, Bias: 1.573204, T: 4544, Avg. loss: 42.630120\n",
      "Total training time: 0.01 seconds.\n",
      "-- Epoch 285\n",
      "Norm: 8.95, NNZs: 1, Bias: 1.574442, T: 4560, Avg. loss: 42.354507\n",
      "Total training time: 0.01 seconds.\n",
      "-- Epoch 286\n",
      "Norm: 8.96, NNZs: 1, Bias: 1.575673, T: 4576, Avg. loss: 42.082086\n",
      "Total training time: 0.01 seconds.\n",
      "-- Epoch 287\n",
      "Norm: 8.96, NNZs: 1, Bias: 1.576896, T: 4592, Avg. loss: 41.812669\n",
      "Total training time: 0.01 seconds.\n",
      "-- Epoch 288\n",
      "Norm: 8.97, NNZs: 1, Bias: 1.578111, T: 4608, Avg. loss: 41.546424\n",
      "Total training time: 0.01 seconds.\n",
      "-- Epoch 289\n",
      "Norm: 8.98, NNZs: 1, Bias: 1.579318, T: 4624, Avg. loss: 41.283356\n",
      "Total training time: 0.01 seconds.\n",
      "-- Epoch 290\n",
      "Norm: 8.98, NNZs: 1, Bias: 1.580518, T: 4640, Avg. loss: 41.023318\n",
      "Total training time: 0.01 seconds.\n",
      "-- Epoch 291\n",
      "Norm: 8.99, NNZs: 1, Bias: 1.581711, T: 4656, Avg. loss: 40.766153\n",
      "Total training time: 0.01 seconds.\n",
      "-- Epoch 292\n",
      "Norm: 9.00, NNZs: 1, Bias: 1.582895, T: 4672, Avg. loss: 40.511970\n",
      "Total training time: 0.01 seconds.\n",
      "-- Epoch 293\n",
      "Norm: 9.00, NNZs: 1, Bias: 1.584072, T: 4688, Avg. loss: 40.260790\n",
      "Total training time: 0.01 seconds.\n",
      "-- Epoch 294\n",
      "Norm: 9.01, NNZs: 1, Bias: 1.585241, T: 4704, Avg. loss: 40.012543\n",
      "Total training time: 0.01 seconds.\n",
      "-- Epoch 295\n",
      "Norm: 9.02, NNZs: 1, Bias: 1.586403, T: 4720, Avg. loss: 39.766974\n",
      "Total training time: 0.01 seconds.\n",
      "-- Epoch 296\n",
      "Norm: 9.02, NNZs: 1, Bias: 1.587558, T: 4736, Avg. loss: 39.524278\n",
      "Total training time: 0.01 seconds.\n",
      "-- Epoch 297\n",
      "Norm: 9.03, NNZs: 1, Bias: 1.588705, T: 4752, Avg. loss: 39.284448\n",
      "Total training time: 0.01 seconds.\n",
      "-- Epoch 298\n",
      "Norm: 9.04, NNZs: 1, Bias: 1.589845, T: 4768, Avg. loss: 39.047390\n",
      "Total training time: 0.01 seconds.\n",
      "-- Epoch 299\n",
      "Norm: 9.04, NNZs: 1, Bias: 1.590978, T: 4784, Avg. loss: 38.812882\n",
      "Total training time: 0.01 seconds.\n",
      "-- Epoch 300\n",
      "Norm: 9.05, NNZs: 1, Bias: 1.592104, T: 4800, Avg. loss: 38.581121\n",
      "Total training time: 0.01 seconds.\n",
      "-- Epoch 301\n",
      "Norm: 9.06, NNZs: 1, Bias: 1.593222, T: 4816, Avg. loss: 38.352062\n",
      "Total training time: 0.01 seconds.\n",
      "-- Epoch 302\n",
      "Norm: 9.06, NNZs: 1, Bias: 1.594334, T: 4832, Avg. loss: 38.125621\n",
      "Total training time: 0.01 seconds.\n",
      "-- Epoch 303\n",
      "Norm: 9.07, NNZs: 1, Bias: 1.595439, T: 4848, Avg. loss: 37.901656\n",
      "Total training time: 0.01 seconds.\n",
      "-- Epoch 304\n",
      "Norm: 9.08, NNZs: 1, Bias: 1.596536, T: 4864, Avg. loss: 37.680263\n",
      "Total training time: 0.01 seconds.\n",
      "-- Epoch 305\n",
      "Norm: 9.08, NNZs: 1, Bias: 1.597627, T: 4880, Avg. loss: 37.461458\n",
      "Total training time: 0.01 seconds.\n",
      "-- Epoch 306\n",
      "Norm: 9.09, NNZs: 1, Bias: 1.598711, T: 4896, Avg. loss: 37.245148\n",
      "Total training time: 0.01 seconds.\n",
      "-- Epoch 307\n",
      "Norm: 9.10, NNZs: 1, Bias: 1.599788, T: 4912, Avg. loss: 37.031173\n",
      "Total training time: 0.01 seconds.\n",
      "-- Epoch 308\n",
      "Norm: 9.10, NNZs: 1, Bias: 1.600858, T: 4928, Avg. loss: 36.819666\n",
      "Total training time: 0.01 seconds.\n",
      "-- Epoch 309\n",
      "Norm: 9.11, NNZs: 1, Bias: 1.601922, T: 4944, Avg. loss: 36.610630\n",
      "Total training time: 0.01 seconds.\n",
      "-- Epoch 310\n",
      "Norm: 9.11, NNZs: 1, Bias: 1.602979, T: 4960, Avg. loss: 36.403936\n",
      "Total training time: 0.01 seconds.\n",
      "-- Epoch 311\n",
      "Norm: 9.12, NNZs: 1, Bias: 1.604030, T: 4976, Avg. loss: 36.199461\n",
      "Total training time: 0.01 seconds.\n",
      "-- Epoch 312\n",
      "Norm: 9.13, NNZs: 1, Bias: 1.605073, T: 4992, Avg. loss: 35.997359\n",
      "Total training time: 0.01 seconds.\n",
      "-- Epoch 313\n",
      "Norm: 9.13, NNZs: 1, Bias: 1.606110, T: 5008, Avg. loss: 35.797600\n",
      "Total training time: 0.01 seconds.\n",
      "-- Epoch 314\n",
      "Norm: 9.14, NNZs: 1, Bias: 1.607141, T: 5024, Avg. loss: 35.600111\n",
      "Total training time: 0.01 seconds.\n",
      "-- Epoch 315\n",
      "Norm: 9.14, NNZs: 1, Bias: 1.608166, T: 5040, Avg. loss: 35.404717\n",
      "Total training time: 0.01 seconds.\n",
      "-- Epoch 316\n",
      "Norm: 9.15, NNZs: 1, Bias: 1.609184, T: 5056, Avg. loss: 35.211562\n",
      "Total training time: 0.01 seconds.\n",
      "-- Epoch 317\n",
      "Norm: 9.16, NNZs: 1, Bias: 1.610195, T: 5072, Avg. loss: 35.020655\n",
      "Total training time: 0.01 seconds.\n",
      "-- Epoch 318\n",
      "Norm: 9.16, NNZs: 1, Bias: 1.611201, T: 5088, Avg. loss: 34.831914\n",
      "Total training time: 0.01 seconds.\n",
      "-- Epoch 319\n",
      "Norm: 9.17, NNZs: 1, Bias: 1.612201, T: 5104, Avg. loss: 34.645125\n",
      "Total training time: 0.01 seconds.\n",
      "-- Epoch 320\n",
      "Norm: 9.17, NNZs: 1, Bias: 1.613194, T: 5120, Avg. loss: 34.460474\n",
      "Total training time: 0.01 seconds.\n",
      "-- Epoch 321\n",
      "Norm: 9.18, NNZs: 1, Bias: 1.614180, T: 5136, Avg. loss: 34.277979\n",
      "Total training time: 0.01 seconds.\n",
      "-- Epoch 322\n",
      "Norm: 9.19, NNZs: 1, Bias: 1.615161, T: 5152, Avg. loss: 34.097523\n",
      "Total training time: 0.01 seconds.\n",
      "-- Epoch 323\n",
      "Norm: 9.19, NNZs: 1, Bias: 1.616136, T: 5168, Avg. loss: 33.918965\n",
      "Total training time: 0.01 seconds.\n",
      "-- Epoch 324\n",
      "Norm: 9.20, NNZs: 1, Bias: 1.617105, T: 5184, Avg. loss: 33.742446\n",
      "Total training time: 0.01 seconds.\n",
      "-- Epoch 325\n",
      "Norm: 9.20, NNZs: 1, Bias: 1.618067, T: 5200, Avg. loss: 33.567969\n",
      "Total training time: 0.01 seconds.\n",
      "-- Epoch 326\n",
      "Norm: 9.21, NNZs: 1, Bias: 1.619025, T: 5216, Avg. loss: 33.395431\n",
      "Total training time: 0.01 seconds.\n",
      "-- Epoch 327\n",
      "Norm: 9.21, NNZs: 1, Bias: 1.619976, T: 5232, Avg. loss: 33.224716\n",
      "Total training time: 0.01 seconds.\n",
      "-- Epoch 328\n",
      "Norm: 9.22, NNZs: 1, Bias: 1.620921, T: 5248, Avg. loss: 33.055916\n",
      "Total training time: 0.01 seconds.\n",
      "-- Epoch 329\n",
      "Norm: 9.22, NNZs: 1, Bias: 1.621860, T: 5264, Avg. loss: 32.889051\n",
      "Total training time: 0.01 seconds.\n",
      "-- Epoch 330\n",
      "Norm: 9.23, NNZs: 1, Bias: 1.622793, T: 5280, Avg. loss: 32.724075\n",
      "Total training time: 0.01 seconds.\n",
      "-- Epoch 331\n",
      "Norm: 9.24, NNZs: 1, Bias: 1.623722, T: 5296, Avg. loss: 32.560792\n",
      "Total training time: 0.01 seconds.\n",
      "-- Epoch 332\n",
      "Norm: 9.24, NNZs: 1, Bias: 1.624643, T: 5312, Avg. loss: 32.399366\n",
      "Total training time: 0.01 seconds.\n",
      "-- Epoch 333\n",
      "Norm: 9.25, NNZs: 1, Bias: 1.625560, T: 5328, Avg. loss: 32.239790\n",
      "Total training time: 0.01 seconds.\n",
      "-- Epoch 334\n",
      "Norm: 9.25, NNZs: 1, Bias: 1.626471, T: 5344, Avg. loss: 32.082000\n",
      "Total training time: 0.01 seconds.\n",
      "-- Epoch 335\n",
      "Norm: 9.26, NNZs: 1, Bias: 1.627377, T: 5360, Avg. loss: 31.925823\n",
      "Total training time: 0.01 seconds.\n",
      "-- Epoch 336\n",
      "Norm: 9.26, NNZs: 1, Bias: 1.628276, T: 5376, Avg. loss: 31.771430\n",
      "Total training time: 0.01 seconds.\n",
      "-- Epoch 337\n",
      "Norm: 9.27, NNZs: 1, Bias: 1.629170, T: 5392, Avg. loss: 31.618782\n",
      "Total training time: 0.01 seconds.\n",
      "-- Epoch 338\n",
      "Norm: 9.27, NNZs: 1, Bias: 1.630059, T: 5408, Avg. loss: 31.467820\n",
      "Total training time: 0.01 seconds.\n",
      "-- Epoch 339\n",
      "Norm: 9.28, NNZs: 1, Bias: 1.630943, T: 5424, Avg. loss: 31.318440\n",
      "Total training time: 0.01 seconds.\n",
      "-- Epoch 340\n",
      "Norm: 9.28, NNZs: 1, Bias: 1.631821, T: 5440, Avg. loss: 31.170724\n",
      "Total training time: 0.01 seconds.\n",
      "-- Epoch 341\n",
      "Norm: 9.29, NNZs: 1, Bias: 1.632693, T: 5456, Avg. loss: 31.024686\n",
      "Total training time: 0.01 seconds.\n",
      "-- Epoch 342\n",
      "Norm: 9.29, NNZs: 1, Bias: 1.633561, T: 5472, Avg. loss: 30.880260\n",
      "Total training time: 0.01 seconds.\n",
      "-- Epoch 343\n",
      "Norm: 9.30, NNZs: 1, Bias: 1.634423, T: 5488, Avg. loss: 30.737324\n",
      "Total training time: 0.01 seconds.\n",
      "-- Epoch 344\n",
      "Norm: 9.30, NNZs: 1, Bias: 1.635280, T: 5504, Avg. loss: 30.595989\n",
      "Total training time: 0.01 seconds.\n",
      "-- Epoch 345\n",
      "Norm: 9.31, NNZs: 1, Bias: 1.636131, T: 5520, Avg. loss: 30.456261\n",
      "Total training time: 0.01 seconds.\n",
      "-- Epoch 346\n",
      "Norm: 9.31, NNZs: 1, Bias: 1.636978, T: 5536, Avg. loss: 30.318045\n",
      "Total training time: 0.01 seconds.\n",
      "-- Epoch 347\n",
      "Norm: 9.32, NNZs: 1, Bias: 1.637820, T: 5552, Avg. loss: 30.181248\n",
      "Total training time: 0.01 seconds.\n",
      "-- Epoch 348\n",
      "Norm: 9.32, NNZs: 1, Bias: 1.638656, T: 5568, Avg. loss: 30.045999\n",
      "Total training time: 0.01 seconds.\n",
      "-- Epoch 349\n",
      "Norm: 9.33, NNZs: 1, Bias: 1.639487, T: 5584, Avg. loss: 29.912274\n",
      "Total training time: 0.01 seconds.\n",
      "-- Epoch 350\n",
      "Norm: 9.33, NNZs: 1, Bias: 1.640313, T: 5600, Avg. loss: 29.780024\n",
      "Total training time: 0.01 seconds.\n",
      "-- Epoch 351\n",
      "Norm: 9.34, NNZs: 1, Bias: 1.641135, T: 5616, Avg. loss: 29.649113\n",
      "Total training time: 0.01 seconds.\n",
      "-- Epoch 352\n",
      "Norm: 9.34, NNZs: 1, Bias: 1.641951, T: 5632, Avg. loss: 29.519661\n",
      "Total training time: 0.01 seconds.\n",
      "-- Epoch 353\n",
      "Norm: 9.35, NNZs: 1, Bias: 1.642762, T: 5648, Avg. loss: 29.391676\n",
      "Total training time: 0.01 seconds.\n",
      "-- Epoch 354\n",
      "Norm: 9.35, NNZs: 1, Bias: 1.643569, T: 5664, Avg. loss: 29.265102\n",
      "Total training time: 0.01 seconds.\n",
      "-- Epoch 355\n",
      "Norm: 9.36, NNZs: 1, Bias: 1.644371, T: 5680, Avg. loss: 29.139771\n",
      "Total training time: 0.01 seconds.\n",
      "-- Epoch 356\n",
      "Norm: 9.36, NNZs: 1, Bias: 1.645168, T: 5696, Avg. loss: 29.015840\n",
      "Total training time: 0.01 seconds.\n",
      "-- Epoch 357\n",
      "Norm: 9.37, NNZs: 1, Bias: 1.645959, T: 5712, Avg. loss: 28.893319\n",
      "Total training time: 0.01 seconds.\n",
      "-- Epoch 358\n",
      "Norm: 9.37, NNZs: 1, Bias: 1.646747, T: 5728, Avg. loss: 28.772127\n",
      "Total training time: 0.01 seconds.\n",
      "-- Epoch 359\n",
      "Norm: 9.38, NNZs: 1, Bias: 1.647530, T: 5744, Avg. loss: 28.652152\n",
      "Total training time: 0.01 seconds.\n",
      "-- Epoch 360\n",
      "Norm: 9.38, NNZs: 1, Bias: 1.648308, T: 5760, Avg. loss: 28.533511\n",
      "Total training time: 0.01 seconds.\n",
      "-- Epoch 361\n",
      "Norm: 9.38, NNZs: 1, Bias: 1.649081, T: 5776, Avg. loss: 28.416209\n",
      "Total training time: 0.01 seconds.\n",
      "-- Epoch 362\n",
      "Norm: 9.39, NNZs: 1, Bias: 1.649850, T: 5792, Avg. loss: 28.300170\n",
      "Total training time: 0.01 seconds.\n",
      "-- Epoch 363\n",
      "Norm: 9.39, NNZs: 1, Bias: 1.650614, T: 5808, Avg. loss: 28.185307\n",
      "Total training time: 0.01 seconds.\n",
      "-- Epoch 364\n",
      "Norm: 9.40, NNZs: 1, Bias: 1.651373, T: 5824, Avg. loss: 28.071696\n",
      "Total training time: 0.01 seconds.\n",
      "-- Epoch 365\n",
      "Norm: 9.40, NNZs: 1, Bias: 1.652128, T: 5840, Avg. loss: 27.959352\n",
      "Total training time: 0.01 seconds.\n",
      "-- Epoch 366\n",
      "Norm: 9.41, NNZs: 1, Bias: 1.652878, T: 5856, Avg. loss: 27.848251\n",
      "Total training time: 0.01 seconds.\n",
      "-- Epoch 367\n",
      "Norm: 9.41, NNZs: 1, Bias: 1.653625, T: 5872, Avg. loss: 27.738232\n",
      "Total training time: 0.01 seconds.\n",
      "-- Epoch 368\n",
      "Norm: 9.42, NNZs: 1, Bias: 1.654366, T: 5888, Avg. loss: 27.629437\n",
      "Total training time: 0.01 seconds.\n",
      "-- Epoch 369\n",
      "Norm: 9.42, NNZs: 1, Bias: 1.655103, T: 5904, Avg. loss: 27.521857\n",
      "Total training time: 0.01 seconds.\n",
      "-- Epoch 370\n",
      "Norm: 9.42, NNZs: 1, Bias: 1.655836, T: 5920, Avg. loss: 27.415450\n",
      "Total training time: 0.01 seconds.\n",
      "-- Epoch 371\n",
      "Norm: 9.43, NNZs: 1, Bias: 1.656565, T: 5936, Avg. loss: 27.310077\n",
      "Total training time: 0.01 seconds.\n",
      "-- Epoch 372\n",
      "Norm: 9.43, NNZs: 1, Bias: 1.657288, T: 5952, Avg. loss: 27.205882\n",
      "Total training time: 0.01 seconds.\n",
      "-- Epoch 373\n",
      "Norm: 9.44, NNZs: 1, Bias: 1.658008, T: 5968, Avg. loss: 27.102834\n",
      "Total training time: 0.01 seconds.\n",
      "-- Epoch 374\n",
      "Norm: 9.44, NNZs: 1, Bias: 1.658723, T: 5984, Avg. loss: 27.000893\n",
      "Total training time: 0.01 seconds.\n",
      "-- Epoch 375\n",
      "Norm: 9.45, NNZs: 1, Bias: 1.659435, T: 6000, Avg. loss: 26.899977\n",
      "Total training time: 0.01 seconds.\n",
      "-- Epoch 376\n",
      "Norm: 9.45, NNZs: 1, Bias: 1.660142, T: 6016, Avg. loss: 26.800154\n",
      "Total training time: 0.01 seconds.\n",
      "-- Epoch 377\n",
      "Norm: 9.45, NNZs: 1, Bias: 1.660844, T: 6032, Avg. loss: 26.701439\n",
      "Total training time: 0.01 seconds.\n",
      "-- Epoch 378\n",
      "Norm: 9.46, NNZs: 1, Bias: 1.661543, T: 6048, Avg. loss: 26.603784\n",
      "Total training time: 0.01 seconds.\n",
      "-- Epoch 379\n",
      "Norm: 9.46, NNZs: 1, Bias: 1.662238, T: 6064, Avg. loss: 26.507092\n",
      "Total training time: 0.01 seconds.\n",
      "-- Epoch 380\n",
      "Norm: 9.47, NNZs: 1, Bias: 1.662928, T: 6080, Avg. loss: 26.411457\n",
      "Total training time: 0.01 seconds.\n",
      "-- Epoch 381\n",
      "Norm: 9.47, NNZs: 1, Bias: 1.663614, T: 6096, Avg. loss: 26.316885\n",
      "Total training time: 0.01 seconds.\n",
      "-- Epoch 382\n",
      "Norm: 9.47, NNZs: 1, Bias: 1.664297, T: 6112, Avg. loss: 26.223305\n",
      "Total training time: 0.01 seconds.\n",
      "-- Epoch 383\n",
      "Norm: 9.48, NNZs: 1, Bias: 1.664975, T: 6128, Avg. loss: 26.130645\n",
      "Total training time: 0.01 seconds.\n",
      "-- Epoch 384\n",
      "Norm: 9.48, NNZs: 1, Bias: 1.665649, T: 6144, Avg. loss: 26.039012\n",
      "Total training time: 0.01 seconds.\n",
      "-- Epoch 385\n",
      "Norm: 9.49, NNZs: 1, Bias: 1.666319, T: 6160, Avg. loss: 25.948388\n",
      "Total training time: 0.01 seconds.\n",
      "-- Epoch 386\n",
      "Norm: 9.49, NNZs: 1, Bias: 1.666986, T: 6176, Avg. loss: 25.858738\n",
      "Total training time: 0.01 seconds.\n",
      "-- Epoch 387\n",
      "Norm: 9.49, NNZs: 1, Bias: 1.667649, T: 6192, Avg. loss: 25.769953\n",
      "Total training time: 0.01 seconds.\n",
      "-- Epoch 388\n",
      "Norm: 9.50, NNZs: 1, Bias: 1.668307, T: 6208, Avg. loss: 25.682136\n",
      "Total training time: 0.01 seconds.\n",
      "-- Epoch 389\n",
      "Norm: 9.50, NNZs: 1, Bias: 1.668961, T: 6224, Avg. loss: 25.595293\n",
      "Total training time: 0.01 seconds.\n",
      "-- Epoch 390\n",
      "Norm: 9.51, NNZs: 1, Bias: 1.669612, T: 6240, Avg. loss: 25.509384\n",
      "Total training time: 0.01 seconds.\n",
      "-- Epoch 391\n",
      "Norm: 9.51, NNZs: 1, Bias: 1.670260, T: 6256, Avg. loss: 25.424274\n",
      "Total training time: 0.01 seconds.\n",
      "-- Epoch 392\n",
      "Norm: 9.51, NNZs: 1, Bias: 1.670903, T: 6272, Avg. loss: 25.340097\n",
      "Total training time: 0.01 seconds.\n",
      "-- Epoch 393\n",
      "Norm: 9.52, NNZs: 1, Bias: 1.671542, T: 6288, Avg. loss: 25.256858\n",
      "Total training time: 0.01 seconds.\n",
      "-- Epoch 394\n",
      "Norm: 9.52, NNZs: 1, Bias: 1.672178, T: 6304, Avg. loss: 25.174498\n",
      "Total training time: 0.01 seconds.\n",
      "-- Epoch 395\n",
      "Norm: 9.53, NNZs: 1, Bias: 1.672810, T: 6320, Avg. loss: 25.092929\n",
      "Total training time: 0.01 seconds.\n",
      "-- Epoch 396\n",
      "Norm: 9.53, NNZs: 1, Bias: 1.673438, T: 6336, Avg. loss: 25.012247\n",
      "Total training time: 0.01 seconds.\n",
      "-- Epoch 397\n",
      "Norm: 9.53, NNZs: 1, Bias: 1.674062, T: 6352, Avg. loss: 24.932455\n",
      "Total training time: 0.01 seconds.\n",
      "-- Epoch 398\n",
      "Norm: 9.54, NNZs: 1, Bias: 1.674684, T: 6368, Avg. loss: 24.853501\n",
      "Total training time: 0.01 seconds.\n",
      "-- Epoch 399\n",
      "Norm: 9.54, NNZs: 1, Bias: 1.675301, T: 6384, Avg. loss: 24.775314\n",
      "Total training time: 0.01 seconds.\n",
      "-- Epoch 400\n",
      "Norm: 9.54, NNZs: 1, Bias: 1.675915, T: 6400, Avg. loss: 24.697957\n",
      "Total training time: 0.01 seconds.\n"
     ]
    },
    {
     "name": "stderr",
     "output_type": "stream",
     "text": [
      "c:\\Python39\\lib\\site-packages\\sklearn\\linear_model\\_stochastic_gradient.py:1527: ConvergenceWarning: Maximum number of iteration reached before convergence. Consider increasing max_iter to improve the fit.\n",
      "  warnings.warn(\n"
     ]
    },
    {
     "data": {
      "text/html": [
       "<style>#sk-container-id-9 {color: black;background-color: white;}#sk-container-id-9 pre{padding: 0;}#sk-container-id-9 div.sk-toggleable {background-color: white;}#sk-container-id-9 label.sk-toggleable__label {cursor: pointer;display: block;width: 100%;margin-bottom: 0;padding: 0.3em;box-sizing: border-box;text-align: center;}#sk-container-id-9 label.sk-toggleable__label-arrow:before {content: \"▸\";float: left;margin-right: 0.25em;color: #696969;}#sk-container-id-9 label.sk-toggleable__label-arrow:hover:before {color: black;}#sk-container-id-9 div.sk-estimator:hover label.sk-toggleable__label-arrow:before {color: black;}#sk-container-id-9 div.sk-toggleable__content {max-height: 0;max-width: 0;overflow: hidden;text-align: left;background-color: #f0f8ff;}#sk-container-id-9 div.sk-toggleable__content pre {margin: 0.2em;color: black;border-radius: 0.25em;background-color: #f0f8ff;}#sk-container-id-9 input.sk-toggleable__control:checked~div.sk-toggleable__content {max-height: 200px;max-width: 100%;overflow: auto;}#sk-container-id-9 input.sk-toggleable__control:checked~label.sk-toggleable__label-arrow:before {content: \"▾\";}#sk-container-id-9 div.sk-estimator input.sk-toggleable__control:checked~label.sk-toggleable__label {background-color: #d4ebff;}#sk-container-id-9 div.sk-label input.sk-toggleable__control:checked~label.sk-toggleable__label {background-color: #d4ebff;}#sk-container-id-9 input.sk-hidden--visually {border: 0;clip: rect(1px 1px 1px 1px);clip: rect(1px, 1px, 1px, 1px);height: 1px;margin: -1px;overflow: hidden;padding: 0;position: absolute;width: 1px;}#sk-container-id-9 div.sk-estimator {font-family: monospace;background-color: #f0f8ff;border: 1px dotted black;border-radius: 0.25em;box-sizing: border-box;margin-bottom: 0.5em;}#sk-container-id-9 div.sk-estimator:hover {background-color: #d4ebff;}#sk-container-id-9 div.sk-parallel-item::after {content: \"\";width: 100%;border-bottom: 1px solid gray;flex-grow: 1;}#sk-container-id-9 div.sk-label:hover label.sk-toggleable__label {background-color: #d4ebff;}#sk-container-id-9 div.sk-serial::before {content: \"\";position: absolute;border-left: 1px solid gray;box-sizing: border-box;top: 0;bottom: 0;left: 50%;z-index: 0;}#sk-container-id-9 div.sk-serial {display: flex;flex-direction: column;align-items: center;background-color: white;padding-right: 0.2em;padding-left: 0.2em;position: relative;}#sk-container-id-9 div.sk-item {position: relative;z-index: 1;}#sk-container-id-9 div.sk-parallel {display: flex;align-items: stretch;justify-content: center;background-color: white;position: relative;}#sk-container-id-9 div.sk-item::before, #sk-container-id-9 div.sk-parallel-item::before {content: \"\";position: absolute;border-left: 1px solid gray;box-sizing: border-box;top: 0;bottom: 0;left: 50%;z-index: -1;}#sk-container-id-9 div.sk-parallel-item {display: flex;flex-direction: column;z-index: 1;position: relative;background-color: white;}#sk-container-id-9 div.sk-parallel-item:first-child::after {align-self: flex-end;width: 50%;}#sk-container-id-9 div.sk-parallel-item:last-child::after {align-self: flex-start;width: 50%;}#sk-container-id-9 div.sk-parallel-item:only-child::after {width: 0;}#sk-container-id-9 div.sk-dashed-wrapped {border: 1px dashed gray;margin: 0 0.4em 0.5em 0.4em;box-sizing: border-box;padding-bottom: 0.4em;background-color: white;}#sk-container-id-9 div.sk-label label {font-family: monospace;font-weight: bold;display: inline-block;line-height: 1.2em;}#sk-container-id-9 div.sk-label-container {text-align: center;}#sk-container-id-9 div.sk-container {/* jupyter's `normalize.less` sets `[hidden] { display: none; }` but bootstrap.min.css set `[hidden] { display: none !important; }` so we also need the `!important` here to be able to override the default hidden behavior on the sphinx rendered scikit-learn.org. See: https://github.com/scikit-learn/scikit-learn/issues/21755 */display: inline-block !important;position: relative;}#sk-container-id-9 div.sk-text-repr-fallback {display: none;}</style><div id=\"sk-container-id-9\" class=\"sk-top-container\"><div class=\"sk-text-repr-fallback\"><pre>SGDRegressor(eta0=0.0001, max_iter=400, random_state=0, verbose=1)</pre><b>In a Jupyter environment, please rerun this cell to show the HTML representation or trust the notebook. <br />On GitHub, the HTML representation is unable to render, please try loading this page with nbviewer.org.</b></div><div class=\"sk-container\" hidden><div class=\"sk-item\"><div class=\"sk-estimator sk-toggleable\"><input class=\"sk-toggleable__control sk-hidden--visually\" id=\"sk-estimator-id-9\" type=\"checkbox\" checked><label for=\"sk-estimator-id-9\" class=\"sk-toggleable__label sk-toggleable__label-arrow\">SGDRegressor</label><div class=\"sk-toggleable__content\"><pre>SGDRegressor(eta0=0.0001, max_iter=400, random_state=0, verbose=1)</pre></div></div></div></div></div>"
      ],
      "text/plain": [
       "SGDRegressor(eta0=0.0001, max_iter=400, random_state=0, verbose=1)"
      ]
     },
     "execution_count": 28,
     "metadata": {},
     "output_type": "execute_result"
    }
   ],
   "source": [
    "from sklearn.linear_model import SGDRegressor  # SGD : Stochastic Gradient Descent 확률적 경사 하강법\n",
    "sr = SGDRegressor(max_iter=400, eta0=1e-4, random_state=0, verbose=1)\n",
    "sr.fit(X_train, y_train)"
   ]
  },
  {
   "cell_type": "code",
   "execution_count": 29,
   "metadata": {},
   "outputs": [
    {
     "data": {
      "image/png": "[encoded data removed]",
      "text/plain": [
       "<Figure size 432x288 with 1 Axes>"
      ]
     },
     "metadata": {
      "needs_background": "light"
     },
     "output_type": "display_data"
    }
   ],
   "source": [
    "plt.scatter(X_train, y_train, color='blue') # 산점도 \n",
    "plt.plot(X_train, sr.predict(X_train), color='green')   # 선 그래프\n",
    "plt.title('Score by hours (train data, SGD)')\n",
    "plt.xlabel('hours')\n",
    "plt.ylabel('score')\n",
    "plt.show()"
   ]
  },
  {
   "cell_type": "code",
   "execution_count": null,
   "metadata": {},
   "outputs": [],
   "source": []
  }
 ],
 "metadata": {
  "kernelspec": {
   "display_name": "Python 3.9.13 64-bit",
   "language": "python",
   "name": "python3"
  },
  "language_info": {
   "codemirror_mode": {
    "name": "ipython",
    "version": 3
   },
   "file_extension": ".py",
   "mimetype": "text/x-python",
   "name": "python",
   "nbconvert_exporter": "python",
   "pygments_lexer": "ipython3",
   "version": "3.9.13"
  },
  "orig_nbformat": 4,
  "vscode": {
   "interpreter": {
    "hash": "81794d4967e6c3204c66dcd87b604927b115b27c00565d3d43f05ba2f3a2cb0d"
   }
  }
 },
 "nbformat": 4,
 "nbformat_minor": 2
}
